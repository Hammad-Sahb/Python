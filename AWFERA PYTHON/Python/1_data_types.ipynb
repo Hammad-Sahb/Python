{
 "cells": [
  {
   "cell_type": "markdown",
   "metadata": {},
   "source": [
    "# Python data types for beginner \n",
    "In Python, every piece of data have an objective. Understanding the built-in data types of Python is fundamental for writing efficent, readable and bug-free prograne. This notebook intriduce you to Python's core data types and best practices for using them.\n",
    "\n",
    "1. Numeric Types \n",
    "Python has two main numaric data types.\n",
    "1. Integers (int)\n",
    "Integers are whole numbers, either positive, negative, or zero.(0,1,-5,888)\n",
    "2. Floats (float)\n",
    "Floats are decimal numbers or in exponentional form. (3.14, -0.5, 0.123, 2.7e3)\n",
    "\n",
    "# 1.1 integers\n",
    "## Defination: Integers are whole numbers without a fractional canponents.\n",
    "Example:(-42, 10, 0)"
   ]
  },
  {
   "cell_type": "code",
   "execution_count": null,
   "metadata": {},
   "outputs": [
    {
     "name": "stdout",
     "output_type": "stream",
     "text": [
      "num1: 12 <class 'int'>\n",
      "num2: -5 <class 'int'>\n",
      "num3: 0 <class 'int'>\n"
     ]
    }
   ],
   "source": [
    "# Examples of Integers\n",
    "num1=12\n",
    "num2=-5\n",
    "num3=0\n",
    "print(\"num1:\",num1,type(num1))\n",
    "print(\"num2:\",num2,type(num2))\n",
    "print(\"num3:\",num3,type(num3))"
   ]
  },
  {
   "cell_type": "markdown",
   "metadata": {},
   "source": [
    "# Best Practices\n",
    "1. Use meaningful and descriptive variable names. Instead of o or x\n",
    "2. Use Integers for Whole Numbers, Avoid using decimals if not needed\n",
    "3. Avoid ambiguous naming:Avoiding ambiguous naming means using clear and meaningful names for variables"
   ]
  },
  {
   "cell_type": "markdown",
   "metadata": {},
   "source": [
    "# 1.2 Floats\n",
    "1. A float in Python is a number that has a fractional part and represents real numbers.\n"
   ]
  },
  {
   "cell_type": "code",
   "execution_count": null,
   "metadata": {},
   "outputs": [
    {
     "name": "stdout",
     "output_type": "stream",
     "text": [
      "pi: 3.3452 <class 'float'>\n",
      "small_float: -0.0023 <class 'float'>\n",
      "exp_float: 150.0 <class 'float'>\n"
     ]
    }
   ],
   "source": [
    "# Key Points About Floats\n",
    "# Floats have decimal points\n",
    "pi = 3.3452\n",
    "small_float = -0.0023\n",
    "exp_float = 1.5e2 # this is a float with an exponent:150.0 in decimal\n",
    "print(\"pi:\",pi,type(pi))\n",
    "print(\"small_float:\",small_float,type(small_float))\n",
    "print(\"exp_float:\",exp_float,type(exp_float))\n"
   ]
  },
  {
   "cell_type": "markdown",
   "metadata": {},
   "source": [
    "# Best Practices\n",
    "1. Watch out for floating-point precision issues. Use decimal or fractions modules if you need precise decimal arithmetic (e.g., currency calculations).\n",
    "2. Use underscores for large numbers: Python 3.6+ allows underscores in numeric literals for readability, e.g., 1_000_000.0 instead of 1000000.0.\n",
    "3. Check your computations: Floating-point arithmetic can lead to subtle bugs in equality checks. Prefer a tolerance-based approach if comparing floats, for example: python Copy"
   ]
  },
  {
   "cell_type": "code",
   "execution_count": null,
   "metadata": {},
   "outputs": [
    {
     "name": "stdout",
     "output_type": "stream",
     "text": [
      "0.30000000000000004\n",
      "0.3\n",
      "1000000\n",
      "False\n",
      "True\n"
     ]
    }
   ],
   "source": [
    "# 1.Floating-Point Precision Problem\n",
    "# Python may not store decimal numbers exactly, which can lead to small errors.\n",
    "\n",
    "a = 0.1 + 0.2\n",
    "print(a)  # Expected: 0.3, but Output: 0.30000000000000004\n",
    "\n",
    "# Explanation:\n",
    "# The result should be 0.3, but Python shows 0.30000000000000004 due to how computers handle floating-point numbers.\n",
    "# This small error can cause problems in calculations.\n",
    "\n",
    "# 2. Using the decimal Module for Accuracy\n",
    "# If you need exact decimal calculations (like in money calculations), use the decimal module.\n",
    "from decimal import Decimal\n",
    "\n",
    "a = Decimal('0.1') + Decimal('0.2')\n",
    "print(a)  # Output: 0.3 (Correct!)\n",
    "# Explanation:\n",
    "# The decimal module stores numbers exactly as written.\n",
    "# Now, 0.1 + 0.2 correctly gives 0.3.\n",
    "\n",
    "# 3. Using Underscores for Large Numbers\n",
    "# To make large numbers easier to read, use underscores (_).\n",
    "big_number = 1_000_000  # Same as 1000000\n",
    "print(big_number)  # Output: 1000000\n",
    "# Explanation:\n",
    "# helps you see big numbers clearly, but Python ignores them when running the code.\n",
    "\n",
    "# 4. Comparing Floating-Point Numbers Safely\n",
    "# Since floating-point numbers have tiny errors, direct comparison (==) may fail. Instead, use math.isclose().\n",
    "import math\n",
    "\n",
    "a = 0.1 + 0.2\n",
    "b = 0.3\n",
    "\n",
    "print(a == b)  # Output: False (Incorrect)\n",
    "print(math.isclose(a, b))  # Output: True (Correct)\n",
    "# Explanation:\n",
    "# a == b fails due to floating-point errors.\n",
    "# math.isclose(a, b) correctly checks if they are almost equal."
   ]
  },
  {
   "cell_type": "markdown",
   "metadata": {},
   "source": [
    "# 2 String\n",
    "Definition: A string is a sequence of characters. In Python, strings can be enclosed in single quotes ('...'), double quotes (\"...\"), or triple quotes (\"\"\"...\"\"\" or '''...''') for multi-line strings."
   ]
  },
  {
   "cell_type": "code",
   "execution_count": null,
   "metadata": {},
   "outputs": [
    {
     "name": "stdout",
     "output_type": "stream",
     "text": [
      "greeting_python: Hello Python! <class 'str'>\n",
      "quote: I can use single quotes too in Python. <class 'str'>\n",
      "multiline_string \"this is\n",
      "a multiline string <class 'str'>\n"
     ]
    }
   ],
   "source": [
    "greeting_python=\"Hello Python!\"\n",
    "quote='I can use single quotes too in Python.'\n",
    "multiline_string=\"\"\"\"this is\n",
    "a multiline string\"\"\"\n",
    "print(\"greeting_python:\",greeting_python,type(greeting_python))\n",
    "print(\"quote:\",quote,type(quote))\n",
    "print(\"multiline_string\",multiline_string,type(multiline_string))"
   ]
  },
  {
   "cell_type": "code",
   "execution_count": null,
   "metadata": {},
   "outputs": [
    {
     "name": "stdout",
     "output_type": "stream",
     "text": [
      "first_name: Hammad\n",
      "last_name: Yousaf\n",
      "full_name: Hammad Yousaf\n",
      "ha_3_times: hahaha\n",
      "first_char: H\n",
      "sub_string: Hello\n"
     ]
    }
   ],
   "source": [
    "# concatenation\n",
    "first_name=\"Hammad\"\n",
    "last_name=\"Yousaf\"\n",
    "full_name=first_name+\" \"+last_name # Hammad Yousaf\n",
    "# Repitation\n",
    "ha_3_times = \"ha\" * 3\n",
    "first_char=greeting_python[0]\n",
    "# Slicing\n",
    "sub_string=greeting_python[0:5]\n",
    "# Print all the veriables\n",
    "print(\"first_name:\",first_name)\n",
    "print(\"last_name:\",last_name)\n",
    "print(\"full_name:\",full_name)\n",
    "print(\"ha_3_times:\",ha_3_times)\n",
    "print(\"first_char:\",first_char)\n",
    "print(\"sub_string:\",sub_string)\n",
    "\n",
    "\n"
   ]
  },
  {
   "cell_type": "markdown",
   "metadata": {},
   "source": [
    "# Best Practices\n",
    "### Why Use f-strings in Python?\n",
    "f-strings (formatted string literals) were introduced in Python 3.6 to make string formatting easier, faster, and more readable."
   ]
  },
  {
   "cell_type": "code",
   "execution_count": null,
   "metadata": {},
   "outputs": [
    {
     "name": "stdout",
     "output_type": "stream",
     "text": [
      "My name is Hammad and I am 25 years old.\n"
     ]
    }
   ],
   "source": [
    "# 1. What is an f-string?\n",
    "# An f-string is a string prefixed with the letter f (or F) before the quotes (\"\" or ''). \n",
    "# # It allows you to insert variables, expressions, and function calls directly inside curly brackets {}.\n",
    "\n",
    "name = \"Hammad\"\n",
    "age = 25\n",
    "print(f\"My name is {name} and I am {age} years old.\")\n"
   ]
  },
  {
   "cell_type": "markdown",
   "metadata": {},
   "source": [
    "# 3 Boolean Type\n",
    "### Definition: Booleans are True or False values. \n",
    "### Use: Typically used in condition checks, loops, or logical evaluations."
   ]
  },
  {
   "cell_type": "code",
   "execution_count": null,
   "metadata": {},
   "outputs": [
    {
     "name": "stdout",
     "output_type": "stream",
     "text": [
      "is_python_easy True <class 'bool'>\n",
      "like_cofee: False <class 'bool'>\n"
     ]
    }
   ],
   "source": [
    "is_python_easy = True\n",
    "like_cofee = False\n",
    "print(\"is_python_easy\",is_python_easy,type(is_python_easy))\n",
    "print(\"like_cofee:\",like_cofee,type(like_cofee))"
   ]
  },
  {
   "cell_type": "markdown",
   "metadata": {},
   "source": [
    "# Best Practices\n",
    "### 1. Use descriptive names: Instead of flag or status, use is_active or has_errors.\n",
    "### 2. Avoid comparing booleans to True or False directly.\n",
    "### 3. Keep booleans purely boolean: Resist the temptation to mix them with numbers. Although True behaves like 1 and False like 0, it makes the code less clear."
   ]
  },
  {
   "cell_type": "code",
   "execution_count": null,
   "metadata": {},
   "outputs": [
    {
     "name": "stdout",
     "output_type": "stream",
     "text": [
      "Yes, Python is easy!\n"
     ]
    }
   ],
   "source": [
    "# Instead of: if is_python_easy == True:\n",
    "# Do this:\n",
    "if is_python_easy:\n",
    "    print(\"Yes, Python is easy!\")\n"
   ]
  },
  {
   "cell_type": "markdown",
   "metadata": {},
   "source": [
    "# None Type\n",
    "### Defination: NoneType is a built-in type in Python that represents the absence of a value.\n",
    "### Usage: None is used to indicate that a variable has no value."
   ]
  },
  {
   "cell_type": "code",
   "execution_count": null,
   "metadata": {},
   "outputs": [
    {
     "name": "stdout",
     "output_type": "stream",
     "text": [
      "nothing_here: None <class 'NoneType'>\n"
     ]
    }
   ],
   "source": [
    "nothing_here = None\n",
    "print(\"nothing_here:\",nothing_here,type(nothing_here))"
   ]
  },
  {
   "cell_type": "markdown",
   "metadata": {},
   "source": [
    "# Best Practice\n",
    "### other way to cheak None value"
   ]
  },
  {
   "cell_type": "code",
   "execution_count": null,
   "metadata": {},
   "outputs": [
    {
     "name": "stdout",
     "output_type": "stream",
     "text": [
      "Nothing here\n"
     ]
    }
   ],
   "source": [
    "if nothing_here is None:\n",
    "    print(\"Nothing here\")"
   ]
  },
  {
   "cell_type": "markdown",
   "metadata": {},
   "source": [
    "# Collections\n",
    "\n",
    "While primitive data types (like int, float, bool, and str) hold single values, Python’s built-in collections let you group multiple items in flexible ways.\n",
    "\n",
    "The four primary built-in collections are:\n",
    "\n",
    "### List – An ordered, mutable sequence.\n",
    "### Tuple – An ordered, immutable sequence.\n",
    "### Dictionary – An unordered set of key-value pairs.\n",
    "### Set – An unordered collection of unique elements."
   ]
  },
  {
   "cell_type": "markdown",
   "metadata": {},
   "source": [
    "# List\n",
    "### Definatoin: A collection that keeps the order of items and allows changes (e.g., adding or removing elements).\n",
    "### Characteristics: Ordered, Changeable, Indexed. using [] or list() constructor\n"
   ]
  },
  {
   "cell_type": "code",
   "execution_count": null,
   "metadata": {},
   "outputs": [
    {
     "name": "stdout",
     "output_type": "stream",
     "text": [
      "empty_lisy: [] <class 'list'>\n",
      "mixed_list: ['Hello', 12, 3.5, True] <class 'list'>\n",
      "numbers: [10, 20, 30, 40, 50, 60, 70, 80, 90, 100] <class 'list'>\n"
     ]
    }
   ],
   "source": [
    "# Creating List in different ways\n",
    "empty_list = []\n",
    "mixed_list = [\"Hello\",12,3.5,True]\n",
    "numbers = [10,20,30,40,50,60,70,80,90,100]\n",
    "\n",
    "print(\"empty_lisy:\",empty_list,type(empty_list))\n",
    "print(\"mixed_list:\",mixed_list,type(mixed_list))\n",
    "print(\"numbers:\",numbers,type(numbers))"
   ]
  },
  {
   "cell_type": "code",
   "execution_count": null,
   "metadata": {},
   "outputs": [
    {
     "name": "stdout",
     "output_type": "stream",
     "text": [
      "first_number: 10 <class 'int'>\n",
      "last_number: 100 <class 'int'>\n"
     ]
    }
   ],
   "source": [
    "# Accessing the first element of the list\n",
    "first_number = numbers[0]\n",
    "last_number = numbers[-1]\n",
    "\n",
    "print(\"first_number:\",first_number,type(first_number))\n",
    "# Accessing the last element of the list\n",
    "print(\"last_number:\",last_number,type(last_number))"
   ]
  },
  {
   "cell_type": "markdown",
   "metadata": {},
   "source": [
    "### Adding, Removing and Modifying Elements"
   ]
  },
  {
   "cell_type": "code",
   "execution_count": null,
   "metadata": {},
   "outputs": [
    {
     "name": "stdout",
     "output_type": "stream",
     "text": [
      "[10, 20, 30, 40, 50, 60, 70, 80, 90, 100, 110]\n",
      "[10, 20, 30, 40, 50, 60, 70, 80, 90, 100, 120, 110]\n",
      "[10, 20, 30, 40, 50, 60, 70, 80, 90, 100, 120]\n",
      "[10, 20, 30, 40, 50, 60, 70, 80, 90, 100]\n",
      "Modify_numbers: [10, 20, 30, 50, 50, 60, 70, 80, 90, 100] <class 'list'>\n"
     ]
    }
   ],
   "source": [
    "# Adding Elements by using .append() function\n",
    "numbers.append(110) # Adding 110 at the end of the list\n",
    "print(numbers)\n",
    "# insert the elemments by fallowing index of the elements\n",
    "numbers.insert(-1,120)\n",
    "print(numbers)\n",
    "# Removing Elements\n",
    "numbers.pop() # Removes the last item\n",
    "print(numbers)\n",
    "numbers.remove(120) # Removing 120 from the list\n",
    "print(numbers)\n",
    "# Modifying Elements\n",
    "numbers[3] = 50 # modifying item at index 2\n",
    "print('Modify_numbers:',numbers,type(numbers))"
   ]
  },
  {
   "cell_type": "markdown",
   "metadata": {},
   "source": [
    "# Tuple\n",
    "### Defination & Characteristics\n",
    "1. A tuple is created using parentheses () or the tuple() constructor.\n",
    "2. It is ordered, similar to a list.\n",
    "3. It is immutable: You cannot add, remove, or change elements once defined."
   ]
  },
  {
   "cell_type": "code",
   "execution_count": null,
   "metadata": {},
   "outputs": [
    {
     "name": "stdout",
     "output_type": "stream",
     "text": [
      "Empty tuple: ()\n",
      "Single element tuple: (42,)\n",
      "Numbers tuple: (10, 20, 30)\n",
      "Mixed tuple: ('Alice', 25, True)\n",
      "First item: 10\n",
      "Sliced sub-tuple: (20, 30)\n"
     ]
    }
   ],
   "source": [
    "# Creating tuples\n",
    "empty_tuple = ()\n",
    "single_element_tuple = (42,) \n",
    "numbers_tuple = (10, 20, 30)\n",
    "mixed_tuple = (\"Alice\", 25, True)\n",
    "\n",
    "print(\"Empty tuple:\", empty_tuple)\n",
    "print(\"Single element tuple:\", single_element_tuple)\n",
    "print(\"Numbers tuple:\", numbers_tuple)\n",
    "print(\"Mixed tuple:\", mixed_tuple)\n",
    "\n",
    "# Accessing elements by index\n",
    "first_item = numbers_tuple[0]  # 10\n",
    "print(\"First item:\", first_item)\n",
    "\n",
    "# Slicing works similarly to lists\n",
    "sub_tuple = numbers_tuple[1:]  # (20, 30)\n",
    "print(\"Sliced sub-tuple:\", sub_tuple)\n",
    " "
   ]
  },
  {
   "cell_type": "code",
   "execution_count": null,
   "metadata": {},
   "outputs": [
    {
     "name": "stdout",
     "output_type": "stream",
     "text": [
      "Error: 'tuple' object does not support item assignment\n"
     ]
    }
   ],
   "source": [
    "# trying to modify the tuple will raise an error\n",
    "try:\n",
    "    numbers_tuple[0] = 80\n",
    "except TypeError as e:\n",
    "    print(f\"Error: {e}\")  # Output: Error: 'tuple' object does"
   ]
  },
  {
   "cell_type": "code",
   "execution_count": null,
   "metadata": {},
   "outputs": [
    {
     "name": "stdout",
     "output_type": "stream",
     "text": [
      "Hammad\n",
      "30\n",
      "Pakistan\n"
     ]
    }
   ],
   "source": [
    "# Unpacking the tuple in the separate veriables\n",
    "my_tuple = (\"Hammad\", 30 , \"Pakistan\")\n",
    "name, age, country = (\"Hammad\", 30, \"Pakistan\")\n",
    "# Printing the values of the variables\n",
    "print(name)\n",
    "print(age)\n",
    "print(country)"
   ]
  },
  {
   "cell_type": "markdown",
   "metadata": {},
   "source": [
    "# Best Practices for Tuples\n",
    "### 1. Use tuples for fixed collections of items that don’t change, like coordinates or constant data.\n",
    "### 2. Leverage tuple unpacking to write cleaner code when returning multiple values from a function.\n",
    "### 3. Don’t modify: If you need to frequently alter the collection, consider a list."
   ]
  },
  {
   "cell_type": "markdown",
   "metadata": {},
   "source": [
    "# Dictionary\n",
    "## Defination & Characteristics\n",
    "### 1. A dictionary is created using curly braces {} with key-value pairs, or using dict().\n",
    "### 2. It is unordered (though Python 3.7+ maintains insertion order as an implementation detail).\n",
    "### 3. Keys must be unique and immutable (e.g., strings, numbers, tuples). Values can be anything.\n",
    "### 4. It is mutable: You can add, remove, or change key-value pairs."
   ]
  },
  {
   "cell_type": "code",
   "execution_count": null,
   "metadata": {},
   "outputs": [
    {
     "name": "stdout",
     "output_type": "stream",
     "text": [
      "Empty dict: {}\n",
      "Person dict: {'name': 'Alice', 'age': 30}\n",
      "Another dict: {'city': 'London', 'country': 'UK'}\n",
      "Name: Alice\n",
      "Age: 30\n"
     ]
    }
   ],
   "source": [
    "# Creating dictionaries\n",
    "empty_dict = {}\n",
    "person_dict = {\"name\": \"Alice\", \"age\": 30}\n",
    "another_dict = dict(city=\"London\", country=\"UK\")\n",
    "\n",
    "print(\"Empty dict:\", empty_dict)\n",
    "print(\"Person dict:\", person_dict)\n",
    "print(\"Another dict:\", another_dict)\n",
    "\n",
    "# Accessing values by key\n",
    "print(\"Name:\", person_dict[\"name\"])  \n",
    "print(\"Age:\", person_dict.get(\"age\"))  # .get() is safer, returns None if key isn’t found\n"
   ]
  },
  {
   "cell_type": "markdown",
   "metadata": {},
   "source": [
    "# Best Practices for Dictionaries\n",
    "### Use dictionaries when you need fast lookups by key.\n",
    "### Keys should be immutable and descriptive (e.g., strings that convey meaning).\n",
    "### Use .get(key, default) to avoid KeyError when a key might not exist.\n",
    "### Dictionaries are great for configuration data or bundling related data attributes without creating a custom class."
   ]
  },
  {
   "cell_type": "markdown",
   "metadata": {},
   "source": [
    "# Set\n",
    "## Definition & Characteristics\n",
    "### 1. A set is created using curly braces {} or the set() constructor.\n",
    "### 2. It is unordered and does not allow duplicate elements.\n",
    "### 3. It is mutable: You can add or remove elements."
   ]
  },
  {
   "cell_type": "code",
   "execution_count": null,
   "metadata": {},
   "outputs": [
    {
     "name": "stdout",
     "output_type": "stream",
     "text": [
      "Empty set: set()\n",
      "Numbers set: {1, 2, 3}\n",
      "Mixed set: {42, (1, 2), 'apple'}\n"
     ]
    }
   ],
   "source": [
    "# Creating sets\n",
    "empty_set = set()\n",
    "numbers_set = {1, 2, 3, 2}  # Duplicates are removed automatically\n",
    "mixed_set = {\"apple\", 42, (1, 2)}  # You can store immutable types like tuples\n",
    "\n",
    "print(\"Empty set:\", empty_set)\n",
    "print(\"Numbers set:\", numbers_set)\n",
    "print(\"Mixed set:\", mixed_set)"
   ]
  },
  {
   "cell_type": "markdown",
   "metadata": {},
   "source": [
    "### Adding, Removing Elements"
   ]
  },
  {
   "cell_type": "code",
   "execution_count": null,
   "metadata": {},
   "outputs": [
    {
     "name": "stdout",
     "output_type": "stream",
     "text": [
      "Updated set: {1, 3, 4}\n"
     ]
    }
   ],
   "source": [
    "numbers_set.add(4)  # adds 4 to the set\n",
    "numbers_set.discard(2)  # Removes 2 if it exists, no error if it doesn’t\n",
    "# numbers_set.remove(2)  # Removes 2 but raises a KeyError if it doesn’t exist\n",
    "\n",
    "print(\"Updated set:\", numbers_set)"
   ]
  },
  {
   "cell_type": "markdown",
   "metadata": {},
   "source": [
    "# Set Oprations\n",
    "### 1. Sets support mathematical set operations like union, intersection, difference, etc."
   ]
  },
  {
   "cell_type": "code",
   "execution_count": null,
   "metadata": {},
   "outputs": [
    {
     "name": "stdout",
     "output_type": "stream",
     "text": [
      "Union: {1, 2, 3, 4, 5}\n",
      "Intersection: {3}\n",
      "Difference: {1, 2}\n",
      "Symmetric Difference: {1, 2, 4, 5}\n"
     ]
    }
   ],
   "source": [
    "set_a = {1, 2, 3}\n",
    "set_b = {3, 4, 5}\n",
    "\n",
    "# Union: all elements from both sets\n",
    "print(\"Union:\", set_a.union(set_b))  # or set_a | set_b\n",
    "\n",
    "# Intersection: elements common to both\n",
    "print(\"Intersection:\", set_a.intersection(set_b))  # or set_a & set_b\n",
    "\n",
    "# Difference: elements in set_a but not in set_b\n",
    "print(\"Difference:\", set_a.difference(set_b))  # or set_a - set_b\n",
    "\n",
    "# Symmetric Difference: elements in either set_a or set_b, but not both\n",
    "print(\"Symmetric Difference:\", set_a.symmetric_difference(set_b))  # or set_a ^ set_b\n"
   ]
  },
  {
   "cell_type": "markdown",
   "metadata": {},
   "source": [
    "# Best Practices for Sets\n",
    "\n",
    "### Use sets when you need to efficiently test for membership (in check) and remove duplicates.\n",
    "### Avoid storing mutable items in a set—items must be hashable (immutable).\n",
    "### Use set operations for cleaner and more efficient code when dealing with membership and overlaps."
   ]
  },
  {
   "cell_type": "markdown",
   "metadata": {},
   "source": [
    "Here are the **best practices** for using **data types** and **collections** in Python:\n",
    "\n",
    "---\n",
    "\n",
    "# **🔹 Best Practices for Basic Data Types**\n",
    "\n",
    "### ✅ **1. String (`str`)**\n",
    "✔ **Use f-strings for string formatting** (Python 3.6+)  \n",
    "- Instead of:\n",
    "  ```python\n",
    "  name = \"Hammad\"\n",
    "  age = 25\n",
    "  print(\"My name is \" + name + \" and I am \" + str(age) + \" years old.\")\n",
    "  ```\n",
    "- Use:\n",
    "  ```python\n",
    "  print(f\"My name is {name} and I am {age} years old.\")\n",
    "  ```\n",
    "\n",
    "✔ **Use `.join()` instead of string concatenation in loops**  \n",
    "- Instead of:\n",
    "  ```python\n",
    "  words = [\"Python\", \"is\", \"awesome\"]\n",
    "  sentence = \"\"\n",
    "  for word in words:\n",
    "      sentence += word + \" \"  # Inefficient\n",
    "  ```\n",
    "- Use:\n",
    "  ```python\n",
    "  sentence = \" \".join(words)  # More efficient\n",
    "  ```\n",
    "\n",
    "✔ **Use `.strip()`, `.lower()`, and `.replace()` for clean string handling**  \n",
    "  ```python\n",
    "  user_input = \"  Hello World!  \"\n",
    "  print(user_input.strip())   # \"Hello World!\"\n",
    "  print(user_input.lower())   # \"  hello world!  \"\n",
    "  print(user_input.replace(\"World\", \"Python\"))  # \"  Hello Python!  \"\n",
    "  ```\n",
    "\n",
    "✔ **Use triple quotes for multi-line strings**  \n",
    "  ```python\n",
    "  text = \"\"\"This is a multi-line\n",
    "  string example in Python.\"\"\"\n",
    "  ```\n",
    "\n",
    "---\n",
    "\n",
    "### ✅ **2. Integer (`int`) & Float (`float`)**\n",
    "✔ **Use integer division (`//`) when needed**  \n",
    "- Instead of:\n",
    "  ```python\n",
    "  result = 5 / 2  # 2.5 (float)\n",
    "  ```\n",
    "- Use:\n",
    "  ```python\n",
    "  result = 5 // 2  # 2 (integer division)\n",
    "  ```\n",
    "\n",
    "✔ **Use `round()` for better precision control in floats**  \n",
    "  ```python\n",
    "  pi = 3.14159\n",
    "  print(round(pi, 2))  # 3.14\n",
    "  ```\n",
    "\n",
    "✔ **Use `isinstance()` for type checking**  \n",
    "  ```python\n",
    "  num = 42\n",
    "  if isinstance(num, int):\n",
    "      print(\"It's an integer\")\n",
    "  ```\n",
    "\n",
    "✔ **Avoid floating-point precision errors**  \n",
    "  ```python\n",
    "  from decimal import Decimal\n",
    "  print(Decimal('0.1') + Decimal('0.2'))  # 0.3\n",
    "  ```\n",
    "\n",
    "---\n",
    "\n",
    "### ✅ **3. Boolean (`bool`)**\n",
    "✔ **Use `bool()` for truthy and falsy values**  \n",
    "  ```python\n",
    "  print(bool(0))       # False\n",
    "  print(bool(1))       # True\n",
    "  print(bool(\"\"))      # False\n",
    "  print(bool(\"Hi\"))    # True\n",
    "  print(bool([]))      # False\n",
    "  ```\n",
    "\n",
    "✔ **Use `if var:` instead of `if var == True:`**  \n",
    "- Instead of:\n",
    "  ```python\n",
    "  is_active = True\n",
    "  if is_active == True:\n",
    "      print(\"Active\")\n",
    "  ```\n",
    "- Use:\n",
    "  ```python\n",
    "  if is_active:\n",
    "      print(\"Active\")\n",
    "  ```\n",
    "\n",
    "---\n",
    "\n",
    "### ✅ **4. None (`NoneType`)**\n",
    "✔ **Use `is` for checking `None` instead of `==`**  \n",
    "  ```python\n",
    "  value = None\n",
    "  if value is None:\n",
    "      print(\"No value assigned\")\n",
    "  ```\n",
    "\n",
    "✔ **Use `None` as a default value in function arguments**  \n",
    "  ```python\n",
    "  def greet(name=None):\n",
    "      if name is None:\n",
    "          return \"Hello, Guest!\"\n",
    "      return f\"Hello, {name}!\"\n",
    "  ```\n",
    "\n",
    "---\n",
    "\n",
    "# **🔹 Best Practices for Collections**\n",
    "\n",
    "### ✅ **1. List (`list`)**\n",
    "✔ **Use list comprehension for efficiency**  \n",
    "- Instead of:\n",
    "  ```python\n",
    "  squares = []\n",
    "  for num in range(10):\n",
    "      squares.append(num ** 2)\n",
    "  ```\n",
    "- Use:\n",
    "  ```python\n",
    "  squares = [num ** 2 for num in range(10)]\n",
    "  ```\n",
    "\n",
    "✔ **Use `append()` instead of `+` for adding elements**  \n",
    "- Instead of:\n",
    "  ```python\n",
    "  my_list = [1, 2, 3]\n",
    "  my_list = my_list + [4]  # Creates a new list\n",
    "  ```\n",
    "- Use:\n",
    "  ```python\n",
    "  my_list.append(4)  # Modifies in place\n",
    "  ```\n",
    "\n",
    "✔ **Use `extend()` to add multiple elements**  \n",
    "  ```python\n",
    "  my_list = [1, 2, 3]\n",
    "  my_list.extend([4, 5, 6])  # [1, 2, 3, 4, 5, 6]\n",
    "  ```\n",
    "\n",
    "✔ **Use `enumerate()` instead of `range(len())`**  \n",
    "  ```python\n",
    "  my_list = [\"a\", \"b\", \"c\"]\n",
    "  for index, value in enumerate(my_list):\n",
    "      print(index, value)\n",
    "  ```\n",
    "\n",
    "✔ **Use slicing instead of loops for modifications**  \n",
    "  ```python\n",
    "  my_list = [1, 2, 3, 4, 5]\n",
    "  print(my_list[:3])  # [1, 2, 3]\n",
    "  ```\n",
    "\n",
    "---\n",
    "\n",
    "### ✅ **2. Tuple (`tuple`)**\n",
    "✔ **Use tuples for fixed-size collections**  \n",
    "  ```python\n",
    "  coordinates = (10.0, 20.0)  # Immutable\n",
    "  ```\n",
    "\n",
    "✔ **Use tuple unpacking for readability**  \n",
    "  ```python\n",
    "  x, y = coordinates\n",
    "  ```\n",
    "\n",
    "✔ **Use named tuples for better readability**  \n",
    "  ```python\n",
    "  from collections import namedtuple\n",
    "  Point = namedtuple(\"Point\", [\"x\", \"y\"])\n",
    "  p = Point(10, 20)\n",
    "  print(p.x, p.y)\n",
    "  ```\n",
    "\n",
    "---\n",
    "\n",
    "### ✅ **3. Set (`set`)**\n",
    "✔ **Use sets for uniqueness and fast lookups**  \n",
    "  ```python\n",
    "  unique_values = set([1, 2, 3, 3, 2, 1])  # {1, 2, 3}\n",
    "  ```\n",
    "\n",
    "✔ **Use set operations (`union`, `intersection`, `difference`)**  \n",
    "  ```python\n",
    "  a = {1, 2, 3}\n",
    "  b = {3, 4, 5}\n",
    "  print(a | b)  # {1, 2, 3, 4, 5} (union)\n",
    "  print(a & b)  # {3} (intersection)\n",
    "  print(a - b)  # {1, 2} (difference)\n",
    "  ```\n",
    "\n",
    "✔ **Use `add()` instead of reassigning a new set**  \n",
    "  ```python\n",
    "  my_set = {1, 2, 3}\n",
    "  my_set.add(4)  # {1, 2, 3, 4}\n",
    "  ```\n",
    "\n",
    "---\n",
    "\n",
    "### ✅ **4. Dictionary (`dict`)**\n",
    "✔ **Use dictionary comprehension**  \n",
    "  ```python\n",
    "  squares = {x: x**2 for x in range(5)}  # {0: 0, 1: 1, 2: 4, 3: 9, 4: 16}\n",
    "  ```\n",
    "\n",
    "✔ **Use `get()` to avoid KeyError**  \n",
    "  ```python\n",
    "  my_dict = {\"a\": 1, \"b\": 2}\n",
    "  print(my_dict.get(\"c\", \"Not Found\"))  # \"Not Found\"\n",
    "  ```\n",
    "\n",
    "✔ **Use `items()` for key-value iteration**  \n",
    "  ```python\n",
    "  for key, value in my_dict.items():\n",
    "      print(key, value)\n",
    "  ```\n",
    "\n",
    "✔ **Use `setdefault()` to assign a default value if a key is missing**  \n",
    "  ```python\n",
    "  my_dict.setdefault(\"c\", 3)  # {'a': 1, 'b': 2, 'c': 3}\n",
    "  ```\n",
    "\n",
    "✔ **Use `collections.defaultdict` for missing keys**  \n",
    "  ```python\n",
    "  from collections import defaultdict\n",
    "  my_dict = defaultdict(int)  # Default value is 0 for missing keys\n",
    "  print(my_dict[\"missing\"])  # 0\n",
    "  ```\n",
    "\n",
    "---\n",
    "\n",
    "# **🔹 Summary**\n",
    "✅ Use **strings efficiently** with f-strings and `.join()`  \n",
    "✅ Use **integer division (`//`) and rounding (`round()`)** for precision  \n",
    "✅ Use **boolean checks directly** instead of comparing with `True/False`  \n",
    "✅ Use **list comprehensions** for concise and fast operations  \n",
    "✅ Use **tuple unpacking** and named tuples for readability  \n",
    "✅ Use **sets for unique values and fast operations**  \n",
    "✅ Use **dictionary methods (`get()`, `items()`, `defaultdict`)** for efficient lookups  \n",
    "\n",
    "Would you like detailed examples on any of these? 😊"
   ]
  }
 ],
 "metadata": {
  "kernelspec": {
   "display_name": "first_env",
   "language": "python",
   "name": "python3"
  },
  "language_info": {
   "codemirror_mode": {
    "name": "ipython",
    "version": 3
   },
   "file_extension": ".py",
   "mimetype": "text/x-python",
   "name": "python",
   "nbconvert_exporter": "python",
   "pygments_lexer": "ipython3",
   "version": "3.10.16"
  }
 },
 "nbformat": 4,
 "nbformat_minor": 2
}
