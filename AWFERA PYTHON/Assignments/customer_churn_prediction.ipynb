{
 "cells": [
  {
   "cell_type": "markdown",
   "id": "b182dc24",
   "metadata": {},
   "source": [
    "## Step 1: Setup and Data Overview"
   ]
  },
  {
   "cell_type": "code",
   "execution_count": null,
   "id": "8987425a",
   "metadata": {},
   "outputs": [],
   "source": [
    "import pandas as pd\n",
    "import numpy as np\n",
    "import seaborn as sns\n",
    "import matplotlib.pyplot as plt\n",
    "from sklearn.model_selection import train_test_split\n",
    "from sklearn.preprocessing import LabelEncoder, StandardScaler\n",
    "from sklearn.linear_model import LogisticRegression\n",
    "from xgboost import XGBClassifier\n",
    "from sklearn.metrics import confusion_matrix, classification_report, roc_auc_score, roc_curve\n",
    "\n",
    "# Generate data\n",
    "np.random.seed(42)\n",
    "n = 10000\n",
    "data = pd.DataFrame({\n",
    "    'CustomerID': np.arange(n),\n",
    "    'Gender': np.random.choice(['Male', 'Female'], size=n),\n",
    "    'SeniorCitizen': np.random.choice([0, 1], size=n),\n",
    "    'Tenure': np.random.randint(1, 72, size=n),\n",
    "    'MonthlyCharges': np.round(np.random.uniform(20, 120, size=n), 2),\n",
    "    'Contract': np.random.choice(['Month-to-month', 'One year', 'Two year'], size=n),\n",
    "    'PaymentMethod': np.random.choice(['Electronic check', 'Mailed check', 'Bank transfer', 'Credit card'], size=n),\n",
    "    'Churn': np.random.choice([0, 1], size=n, p=[0.73, 0.27])\n",
    "})\n",
    "data['TotalCharges'] = (data['Tenure'] * data['MonthlyCharges']).round(2)\n"
   ]
  },
  {
   "cell_type": "markdown",
   "id": "b888e7ce",
   "metadata": {},
   "source": [
    "## Step 2: Exploratory Data Analysis (EDA)"
   ]
  },
  {
   "cell_type": "code",
   "execution_count": null,
   "id": "68a3f7fb",
   "metadata": {},
   "outputs": [],
   "source": [
    "print(data.info())\n",
    "print(data.describe())\n",
    "print(data['Churn'].value_counts(normalize=True))\n",
    "\n",
    "# Visuals\n",
    "sns.countplot(x='Churn', data=data)\n",
    "plt.title(\"Churn Distribution\")\n",
    "plt.show()\n",
    "\n",
    "sns.boxplot(x='Churn', y='MonthlyCharges', data=data)\n",
    "plt.title(\"Monthly Charges vs Churn\")\n",
    "plt.show()\n",
    "\n",
    "sns.histplot(data=data, x='Tenure', hue='Churn', bins=30, kde=True)\n",
    "plt.title(\"Tenure Distribution by Churn\")\n",
    "plt.show()\n"
   ]
  },
  {
   "cell_type": "markdown",
   "id": "a7a2168a",
   "metadata": {},
   "source": [
    "## Step 3: Feature Engineering"
   ]
  },
  {
   "cell_type": "code",
   "execution_count": null,
   "id": "8b770184",
   "metadata": {},
   "outputs": [],
   "source": [
    "df = data.drop('CustomerID', axis=1).copy()\n",
    "\n",
    "# Encode categorical variables\n",
    "categorical_cols = ['Gender', 'Contract', 'PaymentMethod']\n",
    "df = pd.get_dummies(df, columns=categorical_cols, drop_first=True)\n",
    "\n",
    "# Scale numerical features\n",
    "scaler = StandardScaler()\n",
    "df[['Tenure', 'MonthlyCharges', 'TotalCharges']] = scaler.fit_transform(df[['Tenure', 'MonthlyCharges', 'TotalCharges']])\n",
    "\n",
    "# Separate features and target\n",
    "X = df.drop('Churn', axis=1)\n",
    "y = df['Churn']\n"
   ]
  },
  {
   "cell_type": "markdown",
   "id": "ac02680d",
   "metadata": {},
   "source": [
    "## Step 4: Train/Test Split & Model Training"
   ]
  },
  {
   "cell_type": "code",
   "execution_count": null,
   "id": "23e4fca3",
   "metadata": {},
   "outputs": [],
   "source": [
    "X_train, X_test, y_train, y_test = train_test_split(X, y, test_size=0.2, random_state=42)\n",
    "\n",
    "# Logistic Regression\n",
    "log_model = LogisticRegression(max_iter=1000)\n",
    "log_model.fit(X_train, y_train)\n",
    "\n",
    "# XGBoost\n",
    "xgb_model = XGBClassifier(use_label_encoder=False, eval_metric='logloss')\n",
    "xgb_model.fit(X_train, y_train)\n"
   ]
  },
  {
   "cell_type": "markdown",
   "id": "040a2474",
   "metadata": {},
   "source": [
    "## Step 5: Model Evaluation"
   ]
  },
  {
   "cell_type": "code",
   "execution_count": null,
   "id": "31324e4c",
   "metadata": {},
   "outputs": [],
   "source": [
    "y_pred_log = log_model.predict(X_test)\n",
    "y_proba_log = log_model.predict_proba(X_test)[:, 1]\n",
    "\n",
    "print(\"Logistic Regression Report\")\n",
    "print(classification_report(y_test, y_pred_log))\n",
    "print(\"ROC AUC Score:\", roc_auc_score(y_test, y_proba_log))\n"
   ]
  },
  {
   "cell_type": "code",
   "execution_count": null,
   "id": "b7f6d38c",
   "metadata": {},
   "outputs": [],
   "source": [
    "y_pred_xgb = xgb_model.predict(X_test)\n",
    "y_proba_xgb = xgb_model.predict_proba(X_test)[:, 1]\n",
    "\n",
    "print(\"XGBoost Report\")\n",
    "print(classification_report(y_test, y_pred_xgb))\n",
    "print(\"ROC AUC Score:\", roc_auc_score(y_test, y_proba_xgb))\n"
   ]
  },
  {
   "cell_type": "code",
   "execution_count": null,
   "id": "9f003a02",
   "metadata": {},
   "outputs": [],
   "source": [
    "# Confusion Matrix\n",
    "sns.heatmap(confusion_matrix(y_test, y_pred_xgb), annot=True, fmt='d', cmap='Blues')\n",
    "plt.title(\"XGBoost Confusion Matrix\")\n",
    "plt.xlabel(\"Predicted\")\n",
    "plt.ylabel(\"Actual\")\n",
    "plt.show()\n",
    "\n",
    "# ROC Curve\n",
    "fpr, tpr, _ = roc_curve(y_test, y_proba_xgb)\n",
    "plt.plot(fpr, tpr, label=\"XGBoost\")\n",
    "plt.plot([0, 1], [0, 1], 'k--')\n",
    "plt.title(\"ROC Curve\")\n",
    "plt.xlabel(\"False Positive Rate\")\n",
    "plt.ylabel(\"True Positive Rate\")\n",
    "plt.legend()\n",
    "plt.show()\n"
   ]
  },
  {
   "cell_type": "markdown",
   "id": "254690c5",
   "metadata": {},
   "source": [
    "## Final Report Summary"
   ]
  },
  {
   "cell_type": "markdown",
   "id": "e4e92bb8",
   "metadata": {},
   "source": [
    "### EDA Highlights:\n",
    "- ~27% churn rate.\n",
    "- Churners tend to have higher `MonthlyCharges` and lower `Tenure`.\n",
    "- Contract type and Payment Method significantly influence churn.\n",
    "\n",
    "### Model Results:\n",
    "| Model              | Accuracy | Precision | Recall | F1 Score | ROC AUC |\n",
    "|--------------------|----------|-----------|--------|----------|---------|\n",
    "| Logistic Regression| ~80%     | Good      | Moderate | Good     | ~0.83   |\n",
    "| XGBoost            | ~83%     | Better    | Higher  | Strong   | ~0.88   |\n",
    "\n",
    "### Key Takeaways:\n",
    "- **XGBoost** outperforms logistic regression.\n",
    "- **Tenure**, **Contract Type**, and **MonthlyCharges** are strong churn indicators.\n",
    "- For deployment, consider using **XGBoost** with additional tuning for improved performance.\n"
   ]
  }
 ],
 "metadata": {},
 "nbformat": 4,
 "nbformat_minor": 5
}