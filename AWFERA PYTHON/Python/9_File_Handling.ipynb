{
 "cells": [
  {
   "cell_type": "markdown",
   "id": "df1cd4bf",
   "metadata": {},
   "source": [
    "# File Handling in Python\n",
    "\n",
    "What is File Handling?\n",
    "File handling refers to the process of interacting with external files using code. This includes:\n",
    "\n",
    "- Opening files\n",
    "- Reading content\n",
    "- Writing data\n",
    "- Appending new data\n",
    "- Closing files after use\n",
    "\n",
    "Python variables only store temporary data which is lost after execution. To persist data, files or databases are used.\n",
    "\n",
    "# Why?\n",
    "\n",
    "When writing programs in Python, often you need to store or retrieve data from external files. This is crucial for tasks like:\n",
    "\n",
    "- Persisting data for future use\n",
    "- Sharing data between programs\n",
    "- Working with large datasets\n",
    "- Logging application activity\n",
    "\n",
    "File handling is essential in programming, especially in areas like AI/ML where we process large datasets."
   ]
  },
  {
   "cell_type": "markdown",
   "id": "e721d004",
   "metadata": {},
   "source": [
    "# Opening and closing files in Python"
   ]
  },
  {
   "cell_type": "markdown",
   "id": "c25e85e4",
   "metadata": {},
   "source": [
    "## To wor with flies in Python, we used the `open()` function to open a file.\n",
    "### Syntax: \n",
    "- file = open(\"filename.txt\", \"mode\")\n",
    "### Perform operations on the files \n",
    "- flie.close()\n",
    "#### Always close the file after the opening it to free up the system resources."
   ]
  },
  {
   "cell_type": "code",
   "execution_count": 1,
   "id": "1cf2882b",
   "metadata": {},
   "outputs": [
    {
     "name": "stdout",
     "output_type": "stream",
     "text": [
      "28\n"
     ]
    }
   ],
   "source": [
    "# Open a file in read mode\n",
    "file = open(\"example.txt\", \"w\")\n",
    "\n",
    "# Perform file operations (e.g., read content)\n",
    "content = file.write('Hello, this is a sample file')\n",
    "print(content)\n",
    "\n",
    "# Always close the file after operations\n",
    "file.close()"
   ]
  },
  {
   "cell_type": "markdown",
   "id": "142e808a",
   "metadata": {},
   "source": [
    "# Reading from and Writing to Files\n",
    "### Syntax for Opening Files\n",
    "#### file = open(\"filename.txt\", \"mode\")\n",
    "\n",
    "- Modes:\n",
    "\n",
    "- r – Read (default mode)\n",
    "- w – Write (creates new file or overwrites)\n",
    "- a – Append (adds content at the end)\n",
    "- r+ – Read and write\n",
    "### Always close the file after use:\n",
    "\n",
    "- file.close()\n",
    "Example: Writing and reading a file in Python"
   ]
  },
  {
   "cell_type": "markdown",
   "id": "dc33e63c",
   "metadata": {},
   "source": [
    "# 🗂️ Python File Modes and Their Behaviors\n",
    "### In Python, file modes define how you open a file — for reading, writing, appending, etc. You use them with the built-in open() function."
   ]
  },
  {
   "cell_type": "markdown",
   "id": "165e0dec",
   "metadata": {},
   "source": [
    "| Mode  | Description                           | Creates File?        | Overwrites? | Cursor Position |\n",
    "| ----- | ------------------------------------- | -------------------- | ----------- | --------------- |\n",
    "| `'r'` | Read (default)                        | ❌                    | ❌           | Start           |\n",
    "| `'w'` | Write (truncate)                      | ✅                    | ✅           | Start           |\n",
    "| `'x'` | Create (fail if file exists)          | ✅                    | ❌ (Error)   | Start           |\n",
    "| `'a'` | Append                                | ✅                    | ❌           | End             |\n",
    "| `'b'` | Binary (used with `r`, `w`, `a`, `x`) | ⚠️ Only binary       | -           | -               |\n",
    "| `'t'` | Text mode (default)                   | -                    | -           | -               |\n",
    "| `'+'` | Read and write                        | Depends on base mode | Depends     | Start           |\n"
   ]
  },
  {
   "cell_type": "markdown",
   "id": "4801724e",
   "metadata": {},
   "source": [
    "### 🧪 Examples\n",
    "\n",
    "#### 1. `'r'` – Read Mode"
   ]
  },
  {
   "cell_type": "code",
   "execution_count": 2,
   "id": "7caec9dd",
   "metadata": {},
   "outputs": [
    {
     "name": "stdout",
     "output_type": "stream",
     "text": [
      "Updated start.ntent.\n",
      "New line added.\n"
     ]
    }
   ],
   "source": [
    "\n",
    "with open(\"data.txt\", \"r\") as file:\n",
    "    content = file.read()\n",
    "    print(content)"
   ]
  },
  {
   "cell_type": "markdown",
   "id": "a683967d",
   "metadata": {},
   "source": [
    "- File must exist.\n",
    "\n",
    "- Reads content from start."
   ]
  },
  {
   "cell_type": "markdown",
   "id": "b1675c66",
   "metadata": {},
   "source": [
    "#### 2. `'w'` – Write Mode (overwrite)"
   ]
  },
  {
   "cell_type": "code",
   "execution_count": 3,
   "id": "15e44408",
   "metadata": {},
   "outputs": [],
   "source": [
    "with open(\"data.txt\", \"w\") as file:\n",
    "    file.write(\"Overwritten content.\")"
   ]
  },
  {
   "cell_type": "markdown",
   "id": "d9428beb",
   "metadata": {},
   "source": [
    "* If file doesn't exist, it is created.\n",
    "* If it exists, it is **overwritten**."
   ]
  },
  {
   "cell_type": "markdown",
   "id": "c1961ff0",
   "metadata": {},
   "source": [
    "#### 3. `'a'` – Append Mode"
   ]
  },
  {
   "cell_type": "code",
   "execution_count": 4,
   "id": "6edf77ca",
   "metadata": {},
   "outputs": [],
   "source": [
    "with open(\"data.txt\", \"a\") as file:\n",
    "    file.write(\"\\nNew line added.\")"
   ]
  },
  {
   "cell_type": "markdown",
   "id": "576b15bb",
   "metadata": {},
   "source": [
    "* Adds to the **end** of file.\n",
    "* Existing content is **not** removed."
   ]
  },
  {
   "cell_type": "markdown",
   "id": "7cdcb62d",
   "metadata": {},
   "source": [
    "#### 4. `'r+'` – Read and Write"
   ]
  },
  {
   "cell_type": "code",
   "execution_count": 5,
   "id": "af7c05a9",
   "metadata": {},
   "outputs": [],
   "source": [
    "with open(\"data.txt\", \"r+\") as file:\n",
    "    content = file.read()\n",
    "    file.seek(0)\n",
    "    file.write(\"Updated start.\")"
   ]
  },
  {
   "cell_type": "markdown",
   "id": "a44a0c76",
   "metadata": {},
   "source": [
    "* File must exist.\n",
    "* Can both read and write."
   ]
  },
  {
   "cell_type": "markdown",
   "id": "9dc0dd00",
   "metadata": {},
   "source": [
    "# 📘 What is JSON File Handling in Python?\n",
    "\n",
    "**JSON file handling** in Python refers to the process of **reading from** and **writing to** files that use the **JSON (JavaScript Object Notation)** format. JSON is commonly used for storing structured data and exchanging data between a server and a client or between programs.\n",
    "\n",
    "---\n",
    "\n",
    "### 🧠 Concept Explained\n",
    "\n",
    "* JSON is **text-based** and structured like a **Python dictionary**.\n",
    "* Python provides the built-in `json` module to easily **convert** between Python data and JSON format.\n",
    "* With JSON file handling, you can:\n",
    "\n",
    "  * **Read** a JSON file and convert its content into Python data (like a dictionary or list).\n",
    "  * **Write** Python data into a file in JSON format.\n",
    "\n",
    "---\n",
    "\n",
    "### 🔧 Behind the Scenes\n",
    "\n",
    "| Action                  | What Happens                               |\n",
    "| ----------------------- | ------------------------------------------ |\n",
    "| `json.load(file)`       | Reads a `.json` file → gives Python object |\n",
    "| `json.dump(data, file)` | Writes Python object → saves as JSON       |\n",
    "\n",
    "---\n",
    "\n",
    "### 🌐 Use Case\n",
    "\n",
    "You use JSON file handling when:\n",
    "\n",
    "* Storing user data (e.g., preferences)\n",
    "* Working with APIs\n",
    "* Saving program settings\n",
    "* Exchanging data between Python and other systems\n"
   ]
  },
  {
   "cell_type": "code",
   "execution_count": 6,
   "id": "b9f85e5d",
   "metadata": {},
   "outputs": [
    {
     "name": "stdout",
     "output_type": "stream",
     "text": [
      "{'name': 'Alice', 'age': 30, 'city': 'New York'}\n"
     ]
    }
   ],
   "source": [
    "import json\n",
    "# Sample dictionary\n",
    "data = {\n",
    "    \"name\": \"Alice\",\n",
    "    \"age\": 30,\n",
    "    \"city\": \"New York\"\n",
    "}\n",
    "# Writing JSON data to a file\n",
    "\n",
    "with open(\"data.json\", \"w\") as json_file:\n",
    "    json.dump(data, json_file)\n",
    "# Reading JSON data from a file\n",
    "\n",
    "with open(\"data.json\", \"r\") as json_file:\n",
    "    loaded_data = json.load(json_file)\n",
    "    print(loaded_data)"
   ]
  }
 ],
 "metadata": {
  "kernelspec": {
   "display_name": "first_env",
   "language": "python",
   "name": "python3"
  },
  "language_info": {
   "codemirror_mode": {
    "name": "ipython",
    "version": 3
   },
   "file_extension": ".py",
   "mimetype": "text/x-python",
   "name": "python",
   "nbconvert_exporter": "python",
   "pygments_lexer": "ipython3",
   "version": "3.10.16"
  }
 },
 "nbformat": 4,
 "nbformat_minor": 5
}
