{
 "cells": [
  {
   "cell_type": "markdown",
   "id": "d14be310",
   "metadata": {},
   "source": [
    "# 🔹 Exception Handling in Python — **Theory Only**\n",
    "\n",
    "**Definition:**\n",
    "Exception handling in Python is a mechanism that lets you **detect and manage errors** that occur during program execution, without crashing the program.\n",
    "\n",
    "---\n",
    "\n",
    "### 🔸 Why It's Needed:\n",
    "\n",
    "When something goes wrong during code execution (like dividing by zero, file not found, wrong data type), Python raises an **exception** (an error). If you don’t handle it, your program stops.\n",
    "\n",
    "---\n",
    "\n",
    "### 🔸 Common Terms:\n",
    "\n",
    "* **Exception:** An error that occurs during runtime (e.g., `ZeroDivisionError`, `FileNotFoundError`).\n",
    "* **Handling:** Responding to the error using a special code block so the program can continue or exit gracefully."
   ]
  },
  {
   "cell_type": "code",
   "execution_count": 1,
   "id": "a56a58e9",
   "metadata": {},
   "outputs": [
    {
     "name": "stdout",
     "output_type": "stream",
     "text": [
      "Invalid input! Please enter a number.\n"
     ]
    }
   ],
   "source": [
    "try:\n",
    "    num = int(input(\"Enter a number: \"))\n",
    "    print(\"You entered:\", num)\n",
    "except ValueError:\n",
    "    print(\"Invalid input! Please enter a number.\")"
   ]
  },
  {
   "cell_type": "markdown",
   "id": "3a82ab33",
   "metadata": {},
   "source": [
    "# 🔹 Why Do We Need Exception Handling in Python?\n",
    "\n",
    "#### 1. **To Stop the Program from Crashing**\n",
    "\n",
    "When an error occurs, Python stops running the program. Exception handling allows the program to continue running smoothly instead of crashing.\n",
    "\n",
    "---\n",
    "\n",
    "#### 2. **To Handle Unexpected Errors Gracefully**\n",
    "\n",
    "Sometimes errors happen that we didn’t expect, like missing files, incorrect user input, or no internet. Exception handling helps us respond to those errors with a clear message instead of showing a confusing error screen.\n",
    "\n",
    "---\n",
    "\n",
    "#### 3. **To Improve User Experience**\n",
    "\n",
    "Instead of letting users see technical errors, we can show friendly messages and guide them on what to do next.\n",
    "\n",
    "---\n",
    "\n",
    "#### 4. **To Make Debugging Easier**\n",
    "\n",
    "When something goes wrong, exception handling lets us print or log custom error messages, which helps in finding and fixing problems faster.\n",
    "\n",
    "---\n",
    "\n",
    "#### 5. **To Always Perform Important Tasks**\n",
    "\n",
    "Some actions (like closing a file or disconnecting from a server) must be done whether there’s an error or not. Exception handling ensures these important tasks are completed."
   ]
  },
  {
   "cell_type": "markdown",
   "id": "0a28162f",
   "metadata": {},
   "source": [
    "# In Python, **errors** are mainly divided into two broad types:\n",
    "\n",
    "---\n",
    "\n",
    "## 🔹 1. **Syntax Errors**\n",
    "\n",
    "These happen **before** the program runs — when Python finds something wrong with the structure of your code.\n",
    "\n",
    "### 🔸 Characteristics:\n",
    "\n",
    "* Detected during *compilation* or the initial run.\n",
    "* Prevents the program from starting.\n",
    "\n",
    "### 🔸 Examples:\n",
    "\n",
    "* Missing colons (`:`)\n",
    "* Incorrect indentation\n",
    "* Misspelled keywords (`pritn` instead of `print`)\n",
    "\n",
    "📝 **Example (in theory)**: Writing a sentence without grammar in English — Python can’t understand it.\n",
    "\n",
    "---\n",
    "\n",
    "## 🔹 2. **Runtime Errors (Exceptions)**\n",
    "\n",
    "These occur **during** the execution of the program — when something unexpected happens.\n",
    "\n",
    "### 🔸 Characteristics:\n",
    "\n",
    "* Program runs but **stops** when it hits the error.\n",
    "* Can be handled using **exception handling (try-except)**.\n",
    "\n",
    "---\n",
    "\n",
    "### 🔸 Common Types of Runtime Errors (Exceptions):\n",
    "\n",
    "| Exception Type        | Description                                     |\n",
    "| --------------------- | ----------------------------------------------- |\n",
    "| **ZeroDivisionError** | Dividing a number by zero                       |\n",
    "| **TypeError**         | Using wrong data type in an operation           |\n",
    "| **ValueError**        | Passing the wrong value (but correct data type) |\n",
    "| **IndexError**        | Trying to access an invalid index in a list     |\n",
    "| **KeyError**          | Accessing a missing key in a dictionary         |\n",
    "| **FileNotFoundError** | Trying to open a file that doesn’t exist        |\n",
    "| **NameError**         | Using a variable that hasn’t been defined       |\n",
    "| **ImportError**       | Importing a module that doesn’t exist           |\n",
    "\n",
    "---\n",
    "\n",
    "## 🔹 Summary\n",
    "\n",
    "| Error Type        | When it Happens     | Can be Handled?         |\n",
    "| ----------------- | ------------------- | ----------------------- |\n",
    "| **Syntax Error**  | Before running code | ❌ No                    |\n",
    "| **Runtime Error** | While running code  | ✅ Yes (with try-except) |"
   ]
  },
  {
   "cell_type": "code",
   "execution_count": 2,
   "id": "d4fe9dcd",
   "metadata": {},
   "outputs": [
    {
     "ename": "SyntaxError",
     "evalue": "'(' was never closed (1445827936.py, line 2)",
     "output_type": "error",
     "traceback": [
      "\u001b[1;36m  Cell \u001b[1;32mIn[2], line 2\u001b[1;36m\u001b[0m\n\u001b[1;33m    print(\"Hello, World!\"\u001b[0m\n\u001b[1;37m         ^\u001b[0m\n\u001b[1;31mSyntaxError\u001b[0m\u001b[1;31m:\u001b[0m '(' was never closed\n"
     ]
    }
   ],
   "source": [
    "# SyntaxError example missing prantheses\n",
    "print(\"Hello, World!\" \n",
    "print('Hello, World!')"
   ]
  },
  {
   "cell_type": "code",
   "execution_count": null,
   "id": "19f7c386",
   "metadata": {},
   "outputs": [
    {
     "ename": "ZeroDivisionError",
     "evalue": "division by zero",
     "output_type": "error",
     "traceback": [
      "\u001b[1;31m---------------------------------------------------------------------------\u001b[0m",
      "\u001b[1;31mZeroDivisionError\u001b[0m                         Traceback (most recent call last)",
      "Cell \u001b[1;32mIn[3], line 4\u001b[0m\n\u001b[0;32m      2\u001b[0m num \u001b[38;5;241m=\u001b[39m \u001b[38;5;241m10\u001b[39m\n\u001b[0;32m      3\u001b[0m denominator \u001b[38;5;241m=\u001b[39m \u001b[38;5;241m0\u001b[39m\n\u001b[1;32m----> 4\u001b[0m result \u001b[38;5;241m=\u001b[39m \u001b[43mnum\u001b[49m\u001b[43m \u001b[49m\u001b[38;5;241;43m/\u001b[39;49m\u001b[43m \u001b[49m\u001b[43mdenominator\u001b[49m\n\u001b[0;32m      5\u001b[0m \u001b[38;5;28mprint\u001b[39m(result)\n",
      "\u001b[1;31mZeroDivisionError\u001b[0m: division by zero"
     ]
    }
   ],
   "source": [
    "# Runtime error Division by zero error\n",
    "num = 10\n",
    "denominator = 0\n",
    "result = num / denominator\n",
    "print(result)"
   ]
  },
  {
   "cell_type": "markdown",
   "id": "c3fd85ad",
   "metadata": {},
   "source": [
    "# 🔹 What is `try-except` Structure in Python?\n",
    "\n",
    "The `try-except` structure is used to **handle errors (exceptions)** in Python so your program doesn't crash when something goes wrong.\n",
    "\n",
    "---\n",
    "\n",
    "## 🔸 Purpose:\n",
    "\n",
    "It lets you **try** running a block of code, and if an error happens, you can **catch (except)** the error and respond properly.\n",
    "\n",
    "---\n",
    "\n",
    "## 🔸 Parts of the Structure:\n",
    "\n",
    "1. **`try` block:**\n",
    "   Write the code here that might cause an error.\n",
    "\n",
    "2. **`except` block:**\n",
    "   This block runs **only if** an error happens in the `try` block. You can handle different types of errors here.\n",
    "\n",
    "---\n",
    "\n",
    "## 🔸 Optional Parts:\n",
    "\n",
    "3. **`else` block (optional):**\n",
    "   Runs if there is **no error** in the `try` block.\n",
    "\n",
    "4. **`finally` block (optional):**\n",
    "   Always runs — **with or without an error**. Usually used for cleanup (like closing files or connections).\n",
    "\n",
    "---\n",
    "\n",
    "## 🔸 Basic Structure (in theory, without code):\n",
    "\n",
    "```\n",
    "try:\n",
    "    # Risky code goes here\n",
    "except SomeError:\n",
    "    # Code that runs if an error occurs\n",
    "else:\n",
    "    # Code that runs if no error occurs (optional)\n",
    "finally:\n",
    "    # Code that always runs (optional)\n",
    "```\n",
    "\n",
    "---\n",
    "\n",
    "## 🔸 Real-Life Example (In Words):\n",
    "\n",
    "Imagine you're withdrawing money from an ATM:\n",
    "\n",
    "* `try`: Insert card and enter PIN (might fail)\n",
    "* `except`: If PIN is wrong → show error message\n",
    "* `else`: If PIN is correct → show account balance\n",
    "* `finally`: Eject the card (always happens)"
   ]
  },
  {
   "cell_type": "code",
   "execution_count": 4,
   "id": "ad824796",
   "metadata": {},
   "outputs": [
    {
     "name": "stdout",
     "output_type": "stream",
     "text": [
      "You can't divide a number by zero.\n"
     ]
    }
   ],
   "source": [
    "try:\n",
    "    num = 10\n",
    "    result = num / 0\n",
    "    print(result)\n",
    "except ZeroDivisionError:\n",
    "    print(\"You can't divide a number by zero.\")"
   ]
  },
  {
   "cell_type": "markdown",
   "id": "179de4b7",
   "metadata": {},
   "source": [
    "# ✅ What is **Handling Multiple Exceptions** in Python?\n",
    "\n",
    "**Handling multiple exceptions** means writing a `try-except` block that can catch and respond to **different types of errors** separately — depending on what kind of error occurs during code execution.\n",
    "\n",
    "This is useful when **more than one error can happen**, and you want to handle each one **differently**."
   ]
  },
  {
   "cell_type": "code",
   "execution_count": 7,
   "id": "f00f6280",
   "metadata": {},
   "outputs": [
    {
     "name": "stdout",
     "output_type": "stream",
     "text": [
      "❌ Invalid input. Please enter a number.\n"
     ]
    }
   ],
   "source": [
    "# ✅ Example: Handle `ZeroDivisionError` and `ValueError`\n",
    "\n",
    "try:\n",
    "    num = int(input(\"Enter a number: \"))\n",
    "    result = 100 / num\n",
    "    print(\"Result:\", result)  \n",
    "except ZeroDivisionError:\n",
    "    print(\"❌ You can't divide by zero.\")      #  Output 1 (if user enters 0)\n",
    "except ValueError:\n",
    "    print(\"❌ Invalid input. Please enter a number.\")  # Output 2 (if user enters a non-integer value)"
   ]
  },
  {
   "cell_type": "markdown",
   "id": "3d9b3880",
   "metadata": {},
   "source": [
    "# ✅ What is **Generic Exception Handling** in Python?\n",
    "\n",
    "**Generic Exception Handling** means catching **any type of exception** using the base class `Exception`.\n",
    "It is used when:\n",
    "\n",
    "* You don’t know exactly what kind of error might occur.\n",
    "* You want to catch **all unexpected errors** with a single block.\n",
    "\n",
    "### ✅ Why Use It?\n",
    "\n",
    "* ✅ When you're debugging.\n",
    "* ✅ When writing small scripts.\n",
    "* ❌ **Avoid using it all the time** — because it hides the type of error, making debugging harder.\n",
    "\n",
    "### ✅ Best Practice:\n",
    "\n",
    "Use specific exceptions first, and then add a generic one at the end as a **safety net**."
   ]
  },
  {
   "cell_type": "code",
   "execution_count": 14,
   "id": "29044500",
   "metadata": {},
   "outputs": [
    {
     "name": "stdout",
     "output_type": "stream",
     "text": [
      "Result: 33.333333333333336\n"
     ]
    }
   ],
   "source": [
    "# Example of eneric exception handling\n",
    "try:\n",
    "    # Some code that may raise an exception\n",
    "    num = int(input(\"Enter a number: \"))\n",
    "    result = 100 / num # This may raise ZeroDivisionError\n",
    "    print(\"Result:\", result)\n",
    "except Exception as e:  # Catching all exceptions\n",
    "    print(\"An error occurred:\", e)"
   ]
  },
  {
   "cell_type": "markdown",
   "id": "5486cf4f",
   "metadata": {},
   "source": [
    "# ✅ What is the `finally` block in Exception Handling?\n",
    "\n",
    "The `finally` block in Python is **always executed**, **no matter what happens** in the `try` or `except` blocks.\n",
    "It is used to write **cleanup code**, such as:\n",
    "\n",
    "* Closing files\n",
    "* Releasing resources\n",
    "* Disconnecting from a database\n",
    "\n",
    "### 🧠 Summary:\n",
    "\n",
    "| Block     | When it runs?                      |\n",
    "| --------- | ---------------------------------- |\n",
    "| `try`     | Runs risky code                    |\n",
    "| `except`  | Runs **if an error occurs**        |\n",
    "| `finally` | **Always runs**, error or no error |"
   ]
  },
  {
   "cell_type": "code",
   "execution_count": 20,
   "id": "9707dd93",
   "metadata": {},
   "outputs": [
    {
     "name": "stdout",
     "output_type": "stream",
     "text": [
      "File not found. Please check the file path.\n",
      "closing the file\n"
     ]
    }
   ],
   "source": [
    "try:\n",
    "    # attempt to open a file with read mode\n",
    "    file = open(\"example.txt\", \"r\")\n",
    "    # read the content of the file\n",
    "    content = file.read()\n",
    "except FileNotFoundError:\n",
    "    # if the file does not exist, print an error message\n",
    "    print(\"File not found. Please check the file path.\")\n",
    "    file = None\n",
    "finally:\n",
    "    # this block will always execute\n",
    "    print(\"closing the file\") \n",
    "    if file is not None:\n",
    "        # if the file was opened successfully, close it\n",
    "       file.close()"
   ]
  },
  {
   "cell_type": "markdown",
   "id": "8cdb1274",
   "metadata": {},
   "source": [
    "# ✅ What is a **Custom Exception** in Python?\n",
    "\n",
    "A **custom exception** is a user-defined error type.\n",
    "You create it when **built-in exceptions** like `ValueError`, `TypeError`, etc., are not specific enough for your needs.\n",
    "\n",
    "You create it by **defining a new class** that inherits from the built-in `Exception` class.\n",
    "\n",
    "### ✅ When to Use Custom Exceptions?\n",
    "\n",
    "* When your program needs **specific error messages**.\n",
    "* When you want to **clearly signal** an exceptional condition in your domain (e.g., `InvalidLoginError`, `InsufficientFundsError`, etc.).\n",
    "* For **cleaner, more readable code** in large projects."
   ]
  },
  {
   "cell_type": "code",
   "execution_count": 21,
   "id": "7a7ff952",
   "metadata": {},
   "outputs": [
    {
     "name": "stdout",
     "output_type": "stream",
     "text": [
      "Error: Amount cannot be negative.\n"
     ]
    }
   ],
   "source": [
    "# Exxample of Custom Exception\n",
    "def withdraw(amount):\n",
    "    # Check if the amount is negative\n",
    "    if amount < 0:\n",
    "        # Raise a ValueError if the amount is negative\n",
    "        raise ValueError(\"Amount cannot be negative.\")\n",
    "    # Print the withdrawal amount\n",
    "    print(f\"Withdrawing {amount} dollars.\")\n",
    "\n",
    "try:\n",
    "# Attempt to withdraw a negative amount\n",
    "    withdraw(-100)\n",
    "except ValueError as e:\n",
    "# Handle the ValueError and print the error message\n",
    "    print(f\"Error: {e}\")"
   ]
  },
  {
   "cell_type": "markdown",
   "id": "44947390",
   "metadata": {},
   "source": [
    "# 👨‍🎓Best Practices\n",
    "\n",
    "### ✅ **1. Use Specific Exceptions**\n",
    "\n",
    "Always catch specific exceptions instead of using a generic `except` block. This helps you understand exactly what went wrong and handle it properly.\n",
    "\n",
    "---\n",
    "\n",
    "### ✅ **2. Avoid Silent Failures**\n",
    "\n",
    "Never leave the `except` block empty. Always provide a meaningful response or logging so that errors don't go unnoticed.\n",
    "\n",
    "---\n",
    "\n",
    "### ✅ **3. Use `finally` for Cleanup**\n",
    "\n",
    "Use the `finally` block to release resources like files, network connections, or database links — whether an error occurs or not.\n",
    "\n",
    "---\n",
    "\n",
    "### ✅ **4. Don’t Use Exceptions for Control Flow**\n",
    "\n",
    "Avoid using exceptions to control the regular flow of your program. Use conditions (`if-else`) for expected situations.\n",
    "\n",
    "---\n",
    "\n",
    "### ✅ **5. Use Logging Instead of Printing**\n",
    "\n",
    "In production environments, use the `logging` module to record error information instead of printing it. This helps in maintaining logs for debugging and auditing.\n",
    "\n",
    "---\n",
    "\n",
    "### ✅ **6. Create Custom Exceptions When Needed**\n",
    "\n",
    "Define your own exception classes for application-specific errors. This improves clarity and separates different types of issues logically.\n",
    "\n",
    "---\n",
    "\n",
    "### ✅ **7. Use `else` with `try` Where Appropriate**\n",
    "\n",
    "Use the `else` block after `try` to run code that should execute **only if no exceptions were raised**.\n",
    "\n",
    "---\n",
    "\n",
    "### ✅ **8. Keep Try Blocks Small**\n",
    "\n",
    "Only wrap the code that might throw an exception inside the `try` block. This helps in pinpointing the error source easily.\n",
    "\n",
    "---\n",
    "\n",
    "### ✅ **9. Avoid Catching `Exception` Too Generally**\n",
    "\n",
    "Using a general `except Exception` should be the **last option**, usually when you're unsure what might go wrong.\n",
    "\n",
    "---\n"
   ]
  }
 ],
 "metadata": {
  "kernelspec": {
   "display_name": "first_env",
   "language": "python",
   "name": "python3"
  },
  "language_info": {
   "codemirror_mode": {
    "name": "ipython",
    "version": 3
   },
   "file_extension": ".py",
   "mimetype": "text/x-python",
   "name": "python",
   "nbconvert_exporter": "python",
   "pygments_lexer": "ipython3",
   "version": "3.10.16"
  }
 },
 "nbformat": 4,
 "nbformat_minor": 5
}
