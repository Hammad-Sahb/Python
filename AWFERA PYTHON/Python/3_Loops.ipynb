{
 "cells": [
  {
   "cell_type": "markdown",
   "metadata": {},
   "source": [
    "# Loops \n",
    "loops are used to execute a block of code repeatedly for a specified number of times. there are two major types of loops in python: for loops, while loops\n",
    "## For Loops\n",
    "for loops are used to iterate over a sequence (such as a list, tuple, or string)"
   ]
  },
  {
   "cell_type": "code",
   "execution_count": 2,
   "metadata": {},
   "outputs": [
    {
     "name": "stdout",
     "output_type": "stream",
     "text": [
      "1\n",
      "2\n",
      "3\n",
      "4\n",
      "5\n"
     ]
    }
   ],
   "source": [
    "# Basic Syntax of for loop in python\n",
    "# for itam in cequence:\n",
    "#     do something with item\n",
    "# 1 Example iterating over a list of numbers\n",
    "numbers = [1, 2, 3, 4, 5]\n",
    "for number in numbers:\n",
    "    print(number)"
   ]
  },
  {
   "cell_type": "markdown",
   "metadata": {},
   "source": [
    "### Using enumerate() in for loops\n",
    "sometime you need to both index and value of a list in a for loop. you can use enumerate() function to get both index and value\n"
   ]
  },
  {
   "cell_type": "code",
   "execution_count": 3,
   "metadata": {},
   "outputs": [
    {
     "name": "stdout",
     "output_type": "stream",
     "text": [
      "0 : apple\n",
      "1 : banana\n",
      "2 : charry\n"
     ]
    }
   ],
   "source": [
    "fruits = ['apple','banana','charry'] # list of fruits\n",
    "for index,fruit in enumerate(fruits): # loop through the list of fruits\n",
    "    print(f'{index} : {fruit}') # f string is used for clear formatting of the output"
   ]
  },
  {
   "cell_type": "code",
   "execution_count": 4,
   "metadata": {},
   "outputs": [
    {
     "name": "stdout",
     "output_type": "stream",
     "text": [
      "0:apple\n",
      "1:banana\n",
      "2:charry\n"
     ]
    }
   ],
   "source": [
    "# without using enumerate()\n",
    "fruits = ['apple','banana','charry'] # list of fruits\n",
    "# initialise the counter variable\n",
    "count = 0 # counter variable\n",
    "for fruit in fruits : # loop through the list of fruits\n",
    "    print(f'{count}:{fruit}') # print the index and the fruit\n",
    "    count += 1 # increment the counter variable"
   ]
  },
  {
   "cell_type": "markdown",
   "metadata": {},
   "source": [
    "# iterating Over Dictionaries\n",
    "Dictonaries are key-pair values "
   ]
  },
  {
   "cell_type": "code",
   "execution_count": 5,
   "metadata": {},
   "outputs": [
    {
     "name": "stdout",
     "output_type": "stream",
     "text": [
      "iterationg over the dictionary:\n",
      "name:Hammad\n",
      "age:25\n",
      "city:Karachi\n"
     ]
    }
   ],
   "source": [
    "person = {'name':'Hammad' , 'age': 25 , 'city':'Karachi'} # dictionary\n",
    "print('iterationg over the dictionary:') # printing the key\n",
    "for key in person: # iterating over the dictionary\n",
    "    print(f'{key}:{person[key]}') # printing the key and value person[key] method is uesd to get the value of the key"
   ]
  },
  {
   "cell_type": "code",
   "execution_count": 6,
   "metadata": {},
   "outputs": [
    {
     "name": "stdout",
     "output_type": "stream",
     "text": [
      "iterationg over the dictionary:\n",
      "name:Hammad\n",
      "age:25\n",
      "city:Karachi\n"
     ]
    }
   ],
   "source": [
    "# another way to iterate over the dictionary by usiny .items() function\n",
    "person = {'name':'Hammad' , 'age': 25 , 'city':'Karachi'} \n",
    "print('iterationg over the dictionary:')\n",
    "for key , index in person.items(): # .tems() function returns a view object that displays a list of a dictionary’s key-value tuple pairs\n",
    "    print(f'{key}:{index}')"
   ]
  },
  {
   "cell_type": "markdown",
   "metadata": {},
   "source": [
    "# While loops\n",
    "## While loop overview\n",
    "### While loops are used to execute a block of code as long as a certain condition is True"
   ]
  },
  {
   "cell_type": "code",
   "execution_count": 7,
   "metadata": {},
   "outputs": [
    {
     "name": "stdout",
     "output_type": "stream",
     "text": [
      "count is: 0\n",
      "count is: 1\n",
      "count is: 2\n",
      "count is: 3\n",
      "count is: 4\n"
     ]
    }
   ],
   "source": [
    "count = 0 # Initialize the count of the number of times the loop runs\n",
    "while count < 5: # Loop 5 times\n",
    "    print(\"count is:\",count) # Print the current count\n",
    "    count += 1 # Increment the count by 1\n"
   ]
  },
  {
   "cell_type": "markdown",
   "metadata": {},
   "source": [
    "# Loop Control Statments\n",
    "### loop control statements allow you to alter the flow of your program\n",
    "1. break : \n",
    "    1(Exits the loop immidiatly)\n",
    "    /\n",
    "    2(Used wehen the certain condition is met and further execution is not required)\n",
    "2. continue :\n",
    "    1(Skips the current iteration and moves to the next one)\n",
    "    /\n",
    "    2(ideal for bypasing certain conditions in the loop wihtout the entire loop being affected)\n",
    " 3. else :\n",
    "     1(Runs when the loop is exuted naturely without any break or return statement)\n",
    "     /\n",
    "     2(Can be used after the loop finishes processing)"
   ]
  },
  {
   "cell_type": "code",
   "execution_count": 9,
   "metadata": {},
   "outputs": [
    {
     "name": "stdout",
     "output_type": "stream",
     "text": [
      "loop completed without break\n",
      "loop completed without break\n",
      "loop completed without break\n",
      "skiping 3\n",
      "loop completed without break\n",
      "loop completed without break\n",
      "loop completed without break\n",
      "loop completed without break\n",
      "breaking 8\n"
     ]
    }
   ],
   "source": [
    "# using break, comtinue, and else in loop\n",
    "# break: used to terminate the loop\n",
    "# continue: used to skip the current iteration and move to the next one\n",
    "# else: used to execute a block of code when the loop finishes normally\n",
    "for i in range(10):\n",
    "    if i == 3:\n",
    "        print('skiping 3')\n",
    "        continue\n",
    "    if i == 8:\n",
    "        print('breaking 8')\n",
    "        break\n",
    "    else:\n",
    "        print('loop completed without break')"
   ]
  },
  {
   "cell_type": "markdown",
   "metadata": {},
   "source": [
    "Here are the **best practices** for using `for` and `while` loops in Python:\n",
    "\n",
    "### 🔹 **General Best Practices**\n",
    "1. **Use the Right Loop Type**  \n",
    "   - Use `for` loops when iterating over a known sequence (e.g., lists, strings, ranges).  \n",
    "   - Use `while` loops when the number of iterations is unknown and depends on a condition.\n",
    "\n",
    "2. **Avoid Infinite Loops**  \n",
    "   - Ensure a `while` loop has an exit condition to prevent infinite execution.\n",
    "   - Example of a **bad practice**:\n",
    "     ```python\n",
    "     while True:  # No exit condition\n",
    "         print(\"Running...\")\n",
    "     ```\n",
    "\n",
    "3. **Use `break` and `continue` Wisely**  \n",
    "   - `break` exits the loop immediately.\n",
    "   - `continue` skips the current iteration and proceeds to the next one.\n",
    "   - **Example:**\n",
    "     ```python\n",
    "     for num in range(1, 10):\n",
    "         if num % 2 == 0:\n",
    "             continue  # Skips even numbers\n",
    "         print(num)  # Prints odd numbers\n",
    "     ```\n",
    "\n",
    "4. **Use `else` with Loops (Rare but Useful)**  \n",
    "   - The `else` block runs when the loop completes normally (without `break`).\n",
    "   - **Example:**\n",
    "     ```python\n",
    "     for num in range(5):\n",
    "         if num == 3:\n",
    "             break\n",
    "     else:\n",
    "         print(\"Loop completed\")  # Won't run because of break\n",
    "     ```\n",
    "\n",
    "5. **Use `enumerate()` Instead of `range(len())`**  \n",
    "   - Instead of:\n",
    "     ```python\n",
    "     for i in range(len(my_list)):\n",
    "         print(i, my_list[i])\n",
    "     ```\n",
    "   - Use:\n",
    "     ```python\n",
    "     for index, value in enumerate(my_list):\n",
    "         print(index, value)\n",
    "     ```\n",
    "\n",
    "6. **Use List Comprehensions When Possible**  \n",
    "   - Instead of:\n",
    "     ```python\n",
    "     squared = []\n",
    "     for num in range(10):\n",
    "         squared.append(num ** 2)\n",
    "     ```\n",
    "   - Use:\n",
    "     ```python\n",
    "     squared = [num ** 2 for num in range(10)]\n",
    "     ```\n",
    "\n",
    "7. **Minimize Operations Inside Loops**  \n",
    "   - Avoid redundant calculations inside the loop.\n",
    "   - Instead of:\n",
    "     ```python\n",
    "     for i in range(len(my_list)):\n",
    "         print(len(my_list), my_list[i])  # `len(my_list)` is calculated in every iteration\n",
    "     ```\n",
    "   - Use:\n",
    "     ```python\n",
    "     length = len(my_list)\n",
    "     for i in range(length):\n",
    "         print(length, my_list[i])  # `len(my_list)` is calculated only once\n",
    "     ```\n",
    "\n",
    "---\n",
    "\n",
    "### 🔹 **Best Practices for `for` Loops**\n",
    "✅ **Use `for` loops for iteration**  \n",
    "- When you know how many times the loop should run:\n",
    "  ```python\n",
    "  for i in range(5):\n",
    "      print(i)\n",
    "  ```\n",
    "\n",
    "✅ **Iterate over iterable objects directly**  \n",
    "- Instead of:\n",
    "  ```python\n",
    "  for i in range(len(my_list)):\n",
    "      print(my_list[i])\n",
    "  ```\n",
    "- Use:\n",
    "  ```python\n",
    "  for item in my_list:\n",
    "      print(item)\n",
    "  ```\n",
    "\n",
    "✅ **Use dictionary iteration properly**  \n",
    "  ```python\n",
    "  my_dict = {'a': 1, 'b': 2}\n",
    "  for key, value in my_dict.items():\n",
    "      print(key, value)\n",
    "  ```\n",
    "\n",
    "✅ **Use `zip()` for iterating multiple lists**  \n",
    "  ```python\n",
    "  names = [\"Alice\", \"Bob\"]\n",
    "  scores = [85, 90]\n",
    "  for name, score in zip(names, scores):\n",
    "      print(name, score)\n",
    "  ```\n",
    "\n",
    "---\n",
    "\n",
    "### 🔹 **Best Practices for `while` Loops**\n",
    "✅ **Use `while` loops for unknown iteration count**  \n",
    "  ```python\n",
    "  x = 0\n",
    "  while x < 5:\n",
    "      print(x)\n",
    "      x += 1\n",
    "  ```\n",
    "\n",
    "✅ **Make sure the loop condition updates**  \n",
    "  ```python\n",
    "  while True:\n",
    "      user_input = input(\"Enter 'exit' to stop: \")\n",
    "      if user_input.lower() == 'exit':\n",
    "          break\n",
    "  ```\n",
    "\n",
    "✅ **Avoid unnecessary conditions inside the loop**  \n",
    "  ```python\n",
    "  while x < 10:\n",
    "      if x % 2 == 0:\n",
    "          print(x)\n",
    "      x += 1\n",
    "  ```\n",
    "\n",
    "---\n",
    "\n",
    "### 🔹 **Performance Tips**\n",
    "✅ **Use built-in functions when possible**  \n",
    "- Instead of:\n",
    "  ```python\n",
    "  total = 0\n",
    "  for num in my_list:\n",
    "      total += num\n",
    "  ```\n",
    "- Use:\n",
    "  ```python\n",
    "  total = sum(my_list)\n",
    "  ```\n",
    "\n",
    "✅ **Use `itertools` for advanced looping needs**  \n",
    "- Example: Infinite iterator\n",
    "  ```python\n",
    "  from itertools import count\n",
    "  for i in count(1):  # Infinite loop from 1\n",
    "      if i > 10:\n",
    "          break\n",
    "      print(i)\n",
    "  ```\n",
    "\n",
    "---\n",
    "\n",
    "### 🚀 **Final Thoughts**\n",
    "- **Choose the right loop** (`for` for known iterations, `while` for unknown).\n",
    "- **Keep loops efficient** (avoid redundant calculations).\n",
    "- **Use built-in functions** (`enumerate()`, `zip()`, `sum()`).\n",
    "- **Avoid infinite loops** unless intentional.\n",
    "- **Use `break` and `continue` wisely** for better readability.\n",
    "\n",
    "Would you like examples for specific scenarios? 😊"
   ]
  }
 ],
 "metadata": {
  "kernelspec": {
   "display_name": "first_env",
   "language": "python",
   "name": "python3"
  },
  "language_info": {
   "codemirror_mode": {
    "name": "ipython",
    "version": 3
   },
   "file_extension": ".py",
   "mimetype": "text/x-python",
   "name": "python",
   "nbconvert_exporter": "python",
   "pygments_lexer": "ipython3",
   "version": "3.10.16"
  }
 },
 "nbformat": 4,
 "nbformat_minor": 2
}
