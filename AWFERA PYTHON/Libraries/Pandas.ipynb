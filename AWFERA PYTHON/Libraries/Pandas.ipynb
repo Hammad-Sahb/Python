{
 "cells": [
  {
   "cell_type": "markdown",
   "id": "45437f8a",
   "metadata": {},
   "source": [
    "# Defination of Pandas Library\n",
    "Pandas is an `open source` software library designed for `data manipulation` and `analysis`. It provides data `structures` like series and DataFrames to easily clean, transform and analyze large datasets and integrates with other Python libraries, such as NumPy and Matplotlib.\n",
    "It is well-suited for working with `tabular data` such as spreadsheets or SQL tables. It is used in data science because it works well with other important libraries. It is built on top of the `NumPy library` as it makes easier to manipulate and analyze. Pandas is used in other libraries such as:\n",
    "\n",
    "1. Matplotlib for plotting graphs\n",
    "2. SciPy for statistical analysis\n",
    "3. Scikit-learn for machine learning algorithms.\n",
    "4. It uses many functionalities provided by NumPy library.\n",
    "\n",
    "# Background\n",
    "It offers functions for data transformation, aggregation and visualization, which are important for analysis. Created by `Wes McKinney in 2008`, Pandas widely used by data scientists, analysts and researchers worldwide. Pandas revolves around two primary Data structures: Series (1D) for single columns and DataFrame (2D) for tabular data enabling efficient data manipulation."
   ]
  },
  {
   "cell_type": "markdown",
   "id": "5fab5a4e",
   "metadata": {},
   "source": [
    "# Important Facts to Know :\n",
    "\n",
    "1. DataFrames: It is a two-dimensional data structure constructed with rows and columns, which is more similar to Excel spreadsheet.\n",
    "2. pandas: This name is derived for the term \"panel data\" which is econometrics terms of data sets.\n",
    "\n",
    "# What is Pandas Used for?\n",
    "1. With pandas, you can perform a wide range of data operations, including\n",
    "2. Reading and writing data from various file formats like CSV, Excel and SQL databases.\n",
    "3. Cleaning and preparing data by handling missing values and filtering entries.\n",
    "4. Merging and joining multiple datasets seamlessly.\n",
    "5. Reshaping data through pivoting and stacking operations.\n",
    "6. Conducting statistical analysis and generating descriptive statistics.\n",
    "7. Visualizing data with integrated plotting capabilities.\n",
    "\n",
    "# Why Learn Pandas\n",
    "Here’s why it’s worth learning:\n",
    "1. It offers a simple and intuitive way to work with structured data, especially using DataFrames.\n",
    "2. Makes data exploration easy, so you can quickly understand patterns or spot issues.\n",
    "3. Saves time by reducing the need for complex code.\n",
    "4. It's widely used in industries like finance, healthcare, marketing and research.\n",
    "5. A must-have skill for data science, analytics and machine learning roles."
   ]
  },
  {
   "cell_type": "markdown",
   "id": "4fed5309",
   "metadata": {},
   "source": [
    "# Data Structures in Pandas Library\n",
    "Pandas provide` two data structures `for manipulating data which are as follows:\n",
    "\n",
    "1. Pandas Series\n",
    "A Pandas Series is `one-dimensional` labeled array capable of holding data of any type (integer, string, float, Python objects etc.). The axis labels are collectively called indexes.\n",
    "\n",
    "Pandas Series is created by loading the datasets from existing storage which can be a SQL database, a CSV file or an Excel file. It can be created from lists, dictionaries, scalar values, etc.\n",
    "\n",
    "Example: Creating a series using the Pandas Library."
   ]
  },
  {
   "cell_type": "code",
   "execution_count": 1,
   "id": "7a088b98",
   "metadata": {},
   "outputs": [
    {
     "name": "stdout",
     "output_type": "stream",
     "text": [
      "Pandas Series:  Series([], dtype: object)\n",
      "Pandas Series:\n",
      " 0    g\n",
      "1    e\n",
      "2    e\n",
      "3    k\n",
      "4    s\n",
      "dtype: object\n"
     ]
    }
   ],
   "source": [
    "import pandas as pd \n",
    "import numpy as np\n",
    "\n",
    "ser = pd.Series() \n",
    "print(\"Pandas Series: \", ser) \n",
    "\n",
    "data = np.array(['g', 'e', 'e', 'k', 's']) \n",
    "  \n",
    "ser = pd.Series(data) \n",
    "print(\"Pandas Series:\\n\", ser)"
   ]
  },
  {
   "cell_type": "markdown",
   "id": "e31a0afa",
   "metadata": {},
   "source": [
    "2. Pandas DataFrame\n",
    "Pandas DataFrame is a `two-dimensional` data structure with labeled axes (rows and columns). It is created by loading the datasets from existing storage which can be a SQL database, a CSV file or an Excel file. It can be created from lists, dictionaries, a list of dictionaries etc.\n",
    "\n",
    "Example: Creating a DataFrame Using the Pandas Library"
   ]
  },
  {
   "cell_type": "code",
   "execution_count": 2,
   "id": "fdc9b80c",
   "metadata": {},
   "outputs": [
    {
     "name": "stdout",
     "output_type": "stream",
     "text": [
      "Empty DataFrame\n",
      "Columns: []\n",
      "Index: []\n",
      "        0\n",
      "0   Geeks\n",
      "1     For\n",
      "2   Geeks\n",
      "3      is\n",
      "4  portal\n",
      "5     for\n",
      "6   Geeks\n"
     ]
    }
   ],
   "source": [
    "import pandas as pd \n",
    "   \n",
    "df = pd.DataFrame() \n",
    "print(df)\n",
    "\n",
    "lst = ['Geeks', 'For', 'Geeks', 'is', 'portal', 'for', 'Geeks'] \n",
    "  \n",
    "df = pd.DataFrame(lst) \n",
    "print(df)"
   ]
  }
 ],
 "metadata": {
  "kernelspec": {
   "display_name": "first_env",
   "language": "python",
   "name": "python3"
  },
  "language_info": {
   "codemirror_mode": {
    "name": "ipython",
    "version": 3
   },
   "file_extension": ".py",
   "mimetype": "text/x-python",
   "name": "python",
   "nbconvert_exporter": "python",
   "pygments_lexer": "ipython3",
   "version": "3.10.16"
  }
 },
 "nbformat": 4,
 "nbformat_minor": 5
}
