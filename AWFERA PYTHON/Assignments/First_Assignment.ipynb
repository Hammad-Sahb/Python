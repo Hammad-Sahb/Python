{
 "cells": [
  {
   "cell_type": "markdown",
   "metadata": {},
   "source": [
    "# Assignment no. 1\n",
    "## Author: Hammad Yousaf"
   ]
  },
  {
   "cell_type": "markdown",
   "metadata": {},
   "source": [
    "# Question no. 1 \n",
    "# Code Along\n",
    "## Problem: Write a Python program that takes a string as input and prints out the following:\n",
    "### 1. The string in reverse order."
   ]
  },
  {
   "cell_type": "code",
   "execution_count": 9,
   "metadata": {},
   "outputs": [
    {
     "name": "stdout",
     "output_type": "stream",
     "text": [
      "Reversed_String: fasuoY dammaH\n"
     ]
    }
   ],
   "source": [
    "# Get input from user\n",
    "user_input = input(\"Enter a string: \")\n",
    "# reverse the string\n",
    "reversed_string = user_input[::-1]\n",
    "print('Reversed_String:', reversed_string)\n",
    "# Exaple input = Hammad Yousaf\n",
    "# Output =  fasuoY dammaH"
   ]
  },
  {
   "cell_type": "markdown",
   "metadata": {},
   "source": [
    "### 2. The number of vowels in the string."
   ]
  },
  {
   "cell_type": "code",
   "execution_count": 21,
   "metadata": {},
   "outputs": [
    {
     "name": "stdout",
     "output_type": "stream",
     "text": [
      "Number of vowels: 2\n"
     ]
    }
   ],
   "source": [
    "# Step 1: Take input from the user\n",
    "user_input = input(\"Enter a string: \")\n",
    "\n",
    "# Step 3: Count vowels (both lowercase and uppercase)\n",
    "vowels = \"aeiouAEIOU\"\n",
    "vowel_count = 0\n",
    "\n",
    "# Loop through each character in the input string\n",
    "for char in user_input:\n",
    "    if char in vowels:\n",
    "        vowel_count += 1\n",
    "# Step 4: Print the results\n",
    "print(\"Number of vowels:\", vowel_count)\n",
    "# Exapmle input = Hammad\n",
    "# Output = Number of vowels: 2"
   ]
  },
  {
   "cell_type": "markdown",
   "metadata": {},
   "source": [
    "# Question 2: Hands-on Coding Project\n",
    "## Problem: Create a Python program that:\n",
    "### ● Takes an input number from the user.\n",
    "### ● Checks whether the number is even or odd.\n",
    "### ● Prints the result."
   ]
  },
  {
   "cell_type": "code",
   "execution_count": 27,
   "metadata": {},
   "outputs": [
    {
     "name": "stdout",
     "output_type": "stream",
     "text": [
      "The number 5 is Odd\n"
     ]
    }
   ],
   "source": [
    "# Take a User input\n",
    "user_input = int(input(\"Number: \"))\n",
    "if user_input % 2 == 0: # Check if the number is even\n",
    "    print(\"The number\",user_input,\"Even\") # Print the result\n",
    "else:\n",
    "    print(\"The number\",user_input,\"is Odd\")\n",
    "# Example Input:\n",
    "# Enter a number: 5\n",
    "# Example Output:\n",
    "# The number 5 is Odd."
   ]
  },
  {
   "cell_type": "markdown",
   "metadata": {},
   "source": [
    "# Question 3: Virtual Environment Application\n",
    "## Problem: Create a Python program that:\n",
    "1. Takes a list of integers as input.\n",
    "2. Creates a new virtual environment called sortenv.\n",
    "3. Installs a package (such as numpy) in the virtual environment.\n",
    "4. Sorts the list using a numpy method (numpy.sort()).\n",
    "5. Prints the sorted list."
   ]
  },
  {
   "cell_type": "code",
   "execution_count": 2,
   "metadata": {},
   "outputs": [
    {
     "name": "stdout",
     "output_type": "stream",
     "text": [
      "sprted_list:  [1 2 3 4 7]\n"
     ]
    }
   ],
   "source": [
    "# Create a new virtual environment called 'sortenv'\n",
    "# (This step is just shown as a comment to simulate the process)\n",
    "# open the anaconda promt\n",
    "# Command:conda create --name sortenv python=3.9\n",
    "# activate the virtual environment\n",
    "# command:conda activate sortenv\n",
    "# Install numpy in the virtual environment\n",
    "# Command:pip install numpy\n",
    "\n",
    "# Take a list of integer \n",
    "input_list = input(\"Enter a number list: \")\n",
    "number = eval(input_list) # convert string to list of integers\n",
    "import numpy as np # import numpy library\n",
    "sorted_number = np.sort(number) # sort the list in ascending order\n",
    "print(\"sprted_list: \", sorted_number) # print the sorted list\n",
    "# Example Input:\n",
    "# Enter a list of numbers: [4, 2, 7, 1, 3]\n",
    "# Example Output:\n",
    "# Sorted list: [1, 2, 3, 4, 7]"
   ]
  }
 ],
 "metadata": {
  "kernelspec": {
   "display_name": "first_env",
   "language": "python",
   "name": "python3"
  },
  "language_info": {
   "codemirror_mode": {
    "name": "ipython",
    "version": 3
   },
   "file_extension": ".py",
   "mimetype": "text/x-python",
   "name": "python",
   "nbconvert_exporter": "python",
   "pygments_lexer": "ipython3",
   "version": "3.10.16"
  }
 },
 "nbformat": 4,
 "nbformat_minor": 2
}
