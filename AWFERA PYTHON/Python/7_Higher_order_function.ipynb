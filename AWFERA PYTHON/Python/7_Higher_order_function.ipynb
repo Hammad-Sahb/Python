{
 "cells": [
  {
   "cell_type": "markdown",
   "id": "099050a3",
   "metadata": {},
   "source": [
    "# Higher Order Functions\n",
    "### A function that takes another function as argument or return a function as output is callad Higher order function\n",
    "1. map() : Applies a function to every iteme in an iterable\n",
    "2. filter() : Filters elements based on a condition\n",
    "3. reduce() : Reduces a sequence to a single value\n",
    "4. zip() : Combines multiple iterable into tuples\n",
    "5. enumerate() : Adds an index to an iterable\n"
   ]
  },
  {
   "cell_type": "markdown",
   "id": "17525755",
   "metadata": {},
   "source": [
    "## 1. Understanding map() Function\n",
    "1. Applies a function to every iteme in an iterable\n",
    "2. Syntax : map(function,iterable)\n",
    "3. Example : Used map() to bouble numbers in a list"
   ]
  },
  {
   "cell_type": "code",
   "execution_count": null,
   "id": "733d346a",
   "metadata": {},
   "outputs": [],
   "source": [
    "# Function to double a number\n",
    "def double(x):\n",
    "    return x * 2\n",
    "# using map to double numbers in a list\n",
    "numbers = [1,2,3,4,5,6,7,8]\n",
    "doubled = list(map(double,numbers))\n",
    "print(doubled)"
   ]
  },
  {
   "cell_type": "markdown",
   "id": "a65b2013",
   "metadata": {},
   "source": [
    "## 2. Understanding filter() Function\n",
    "1. Filters elements based on a condition\n",
    "2. Syntax : filter(function,iterable)\n",
    "3. Example : Use filter() function to exract even number from the list"
   ]
  },
  {
   "cell_type": "code",
   "execution_count": null,
   "id": "7e814151",
   "metadata": {},
   "outputs": [],
   "source": [
    "# Function to check even number\n",
    "def is_even(x):\n",
    "    return x % 2 == 0\n",
    "# Using filter() to get even number from the list\n",
    "numbers = [1,2,3,4,5,6,7,8,9]\n",
    "evens = list(filter(is_even,numbers))\n",
    "print(evens)"
   ]
  },
  {
   "cell_type": "markdown",
   "id": "5caf2221",
   "metadata": {},
   "source": [
    "## 3. Understanding reduce() Function\n",
    "1. Reduces a sequence to a single value\n",
    "2. Single value result\n",
    "3. Syntax : reduce(function,iterable)\n",
    "4. Example : Use reduce() to find the product of all numbers in a list"
   ]
  },
  {
   "cell_type": "code",
   "execution_count": null,
   "id": "4f03c537",
   "metadata": {},
   "outputs": [],
   "source": [
    "# Function to multiply two numbers\n",
    "from functools import reduce\n",
    "def multiply(x , y):\n",
    "    return x * y \n",
    "# Using reduce() to multiply all numbers in a list\n",
    "numbers = [1,2,3,4,5,6,7,8]\n",
    "product = reduce(multiply,numbers)\n",
    "print(product)"
   ]
  },
  {
   "cell_type": "markdown",
   "id": "74d6cc4e",
   "metadata": {},
   "source": [
    "## 4. Understanding zip() Function\n",
    "1. Combines multiple iterable into tuples\n",
    "2. The zip() function takes multiple iterable and returns an iterator of tuples, where each tuple contains the corresponding elements from the input iterables\n",
    "3. Example : Use zip() to pair names with ages"
   ]
  },
  {
   "cell_type": "code",
   "execution_count": null,
   "id": "eb4f8a41",
   "metadata": {},
   "outputs": [],
   "source": [
    "# Using zip() to pair names and ages\n",
    "names = ['Alice' , 'Bob' , 'Charlie']\n",
    "ages = [25 , 30 , 35]\n",
    "paired = list(zip(names , ages))\n",
    "print(paired)"
   ]
  },
  {
   "cell_type": "markdown",
   "id": "1d619a7c",
   "metadata": {},
   "source": [
    "## 5. Understanding the enumerate() Function\n",
    "1. enumerate() adds index to an iterable and\n",
    "This function adds a counter to each item in the iterable, returning an enumerate object\n",
    "2. Syntax : enumerate(iterable,start=0) and \n",
    "The start parameter allow you to specify value for the counter (default is 0)\n",
    "3. Example : Use enumerate() to create an indexd list of fruits and \n",
    "This help when you need both index and value during iteratio"
   ]
  },
  {
   "cell_type": "code",
   "execution_count": null,
   "id": "7a648657",
   "metadata": {},
   "outputs": [],
   "source": [
    "# Using enumerate() to print index and value\n",
    "fruits = ['Apple' , 'Banana' , 'Cherry']\n",
    "for index, fruit in enumerate(fruits,start=1):\n",
    "    print(f'{index}:{fruit}')"
   ]
  },
  {
   "cell_type": "markdown",
   "id": "99ad5dae",
   "metadata": {},
   "source": [
    "# Summary of Best Practices for Higher-Order Functions\n",
    "\n",
    "This image outlines key recommendations for working with higher-order functions in Python:\n",
    "\n",
    "1. *map() and filter()*  \n",
    "   - Best for simple transformations/filtering  \n",
    "   - List comprehensions are often more readable for these cases\n",
    "\n",
    "2. *reduce()*  \n",
    "   - Only use when truly necessary  \n",
    "   - Traditional loops may be clearer for complex reduction operations\n",
    "\n",
    "3. *zip()*  \n",
    "   - Ideal for working with multiple lists simultaneously  \n",
    "   - Creates pairs of elements from parallel iterables\n",
    "\n",
    "4. *enumerate()*  \n",
    "   - Recommended for loops where you need both index and value  \n",
    "   - More Pythonic than manual index management\n",
    "\n",
    "The advice emphasizes readability and choosing the right tool for each situation, with comprehensions often preferred over map/filter for clarity, and loops sometimes being better than reduce fo conplex operation"
   ]
  }
 ],
 "metadata": {
  "kernelspec": {
   "display_name": "first_env",
   "language": "python",
   "name": "python3"
  },
  "language_info": {
   "codemirror_mode": {
    "name": "ipython",
    "version": 3
   },
   "file_extension": ".py",
   "mimetype": "text/x-python",
   "name": "python",
   "nbconvert_exporter": "python",
   "pygments_lexer": "ipython3",
   "version": "3.10.16"
  }
 },
 "nbformat": 4,
 "nbformat_minor": 5
}
