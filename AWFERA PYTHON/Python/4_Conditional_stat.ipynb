{
 "cells": [
  {
   "cell_type": "markdown",
   "metadata": {},
   "source": [
    "# Conditional Statements in Python\n",
    "## Topics Covered:\n",
    "### 1. Understanding Conditional Statements\n",
    "### 2. Real world analogy\n",
    "### 3. Conditional statements in Python if, else, elif\n",
    "### 4. Using logical operatoers with conditional statements\n",
    "### 5. Nested conditional statements_Handling multiple levels of decisions"
   ]
  },
  {
   "cell_type": "markdown",
   "metadata": {},
   "source": [
    "## Why do we need conditions in Python?\n",
    "### Computers need to make decisions when running a programe, this is where conditions help us."
   ]
  },
  {
   "cell_type": "markdown",
   "metadata": {},
   "source": [
    "# Realworld Analogy: Traffic Signals\n",
    "## Imagine you driving a car and reach a traffic signals.\n",
    "### 1. if the light is green , you can go ahead.\n",
    "### 2. if the light is red, you need to stop.\n",
    "### 3. if the light is yellow, you need to slow down.\n",
    "## Just like traffic sghnals , we have if-else statements in programming that help us make decisions based on certain conditions."
   ]
  },
  {
   "cell_type": "markdown",
   "metadata": {},
   "source": [
    "# Important note: How if, else and elif are evaluate conditions in Python?\n",
    "## Python's if, else, and elif statements evaluate conditions from top to bottom.\n",
    "## Each condition must be a boolean expression that evaluates to True or False.\n",
    "### 1. if a condition is true , the code indented under that if statement is executed.\n",
    "### 2. if the all conditions are false, the code indented under the else statement is executed.\n",
    "### 3. only one condition is executed in an if, else , elif chain ."
   ]
  },
  {
   "cell_type": "code",
   "execution_count": 3,
   "metadata": {},
   "outputs": [
    {
     "name": "stdout",
     "output_type": "stream",
     "text": [
      "You can Go!\n"
     ]
    }
   ],
   "source": [
    "# Controlling traffic baced on traffic light\n",
    "# Define the light color\n",
    "traffic_light = 'Green'\n",
    "# Check the condition\n",
    "if traffic_light == 'Green':\n",
    "    print('You can Go!') # if the condition is met, print 'You can Go!'"
   ]
  },
  {
   "cell_type": "code",
   "execution_count": 4,
   "metadata": {},
   "outputs": [
    {
     "name": "stdout",
     "output_type": "stream",
     "text": [
      "You must Stop!\n"
     ]
    }
   ],
   "source": [
    "traffic_light = 'Red'\n",
    "# Check the condition\n",
    "if traffic_light == 'Green':\n",
    "    print('You can Go!') # if the condition is met, print 'You can Go!'\n",
    "else:\n",
    "    print('You must Stop!') # if the condition is not met, print 'You must Stop!'"
   ]
  },
  {
   "cell_type": "code",
   "execution_count": 5,
   "metadata": {},
   "outputs": [
    {
     "name": "stdout",
     "output_type": "stream",
     "text": [
      "You must Stop!\n"
     ]
    }
   ],
   "source": [
    "traffic_light = 'Red'\n",
    "# Check the condition\n",
    "if traffic_light == 'Green':\n",
    "    print('You can Go!') # if the condition is met, print 'You can Go!'\n",
    "elif traffic_light == \"Yellow\": # if the condition is not met, check the next condition\n",
    "    print('Be Careful!') # if the condition is met, print 'Be Careful\n",
    "else:\n",
    "    print('You must Stop!') # if the condition is not met, print 'You must Stop!'"
   ]
  },
  {
   "cell_type": "markdown",
   "metadata": {},
   "source": [
    "# Using logicsl operators with if statment\n",
    "## Logical opoerators allow us to combine conditions in if statements\n",
    "### 1. and returns True if both conditions are True.\n",
    "### 2. or returns True if either condition is True.\n",
    "### 3. not Reverses the Condition."
   ]
  },
  {
   "cell_type": "code",
   "execution_count": 6,
   "metadata": {},
   "outputs": [
    {
     "name": "stdout",
     "output_type": "stream",
     "text": [
      "Pedestrians are not allowed to cross\n"
     ]
    }
   ],
   "source": [
    "# Traffic light example using and: Cheacking if Pedestrians are allowed to cross\n",
    "# Define the pedestrians signal status\n",
    "pedestrian_signal = 'Flashing'\n",
    "# Check the condition\n",
    "if pedestrian_signal == 'Walk' and pedestrian_signal != 'Flashing':\n",
    "    print('Pedestrians are allowed to cross')\n",
    "else:\n",
    "    print('Pedestrians are not allowed to cross')"
   ]
  },
  {
   "cell_type": "code",
   "execution_count": 7,
   "metadata": {},
   "outputs": [
    {
     "name": "stdout",
     "output_type": "stream",
     "text": [
      "You can Go!\n"
     ]
    }
   ],
   "source": [
    "# Traffic light example using or: Allowing Emergency Vehicles to pass\n",
    "# Define the signal status\n",
    "traffic_light = 'Red'\n",
    "# Define the emergency vehicle status\n",
    "Vehicle_type = 'Ambulance'\n",
    "# Check the condition\n",
    "if traffic_light == 'Green' or Vehicle_type == 'Ambulance':\n",
    "    print('You can Go!')\n",
    "else:\n",
    "    print('You Must Stop!')"
   ]
  },
  {
   "cell_type": "code",
   "execution_count": 8,
   "metadata": {},
   "outputs": [
    {
     "name": "stdout",
     "output_type": "stream",
     "text": [
      "Pedestrians are not allowed to cross\n"
     ]
    }
   ],
   "source": [
    "# Traffic light example using NOT: Ensurig no Unauthorized cross\n",
    "# Define the pedestrians signal status\n",
    "pedestrian_signal = 'Do not Walk'\n",
    "# Check the condition\n",
    "if not pedestrian_signal == 'Walk':\n",
    "    print('Pedestrians are not allowed to cross')\n",
    "else:\n",
    "    print('Pedestrians are allowed to cross')"
   ]
  },
  {
   "cell_type": "markdown",
   "metadata": {},
   "source": [
    "# Nested Conditions\n",
    "### Somtimes, decisions depends on multple levels of conditions.\n",
    "### We can nest if statment inside another if statement."
   ]
  },
  {
   "cell_type": "code",
   "execution_count": 9,
   "metadata": {},
   "outputs": [
    {
     "name": "stdout",
     "output_type": "stream",
     "text": [
      "You are driving safely!\n"
     ]
    }
   ],
   "source": [
    "# Trafic light Example using nested if statements Checking traffic rules\n",
    "# Define the speed of car in km/h\n",
    "car_speed = 60\n",
    "# Checking whether the driver wearing a seatbelt or not\n",
    "seatbelt_on = True\n",
    "# Check the condition\n",
    "if car_speed <= 60:\n",
    "    if seatbelt_on:\n",
    "        print('You are driving safely!')\n",
    "    else:\n",
    "        print('You must wear a seatbelt!')\n",
    "else:\n",
    "    print('You are speeding!')"
   ]
  },
  {
   "cell_type": "markdown",
   "metadata": {},
   "source": [
    "# Exercises_Conditional_Statments\n",
    "### Practice these exercises to exam your understanding\n",
    "### Write a program taht asks for a light color and points the correct action"
   ]
  },
  {
   "cell_type": "markdown",
   "metadata": {},
   "source": [
    "# Begineer level(Simple Conditions)\n",
    "## 1. Traffic Light System \n",
    "### Green = \"You can Go!\"\n",
    "### Yellow = \"Slow down and prepare to Stop!\"\n",
    "### Red = \"STOP!\""
   ]
  },
  {
   "cell_type": "code",
   "execution_count": 21,
   "metadata": {},
   "outputs": [
    {
     "name": "stdout",
     "output_type": "stream",
     "text": [
      "Slow down and prepare to Stop!\n"
     ]
    }
   ],
   "source": [
    "# Traffic light function using conditions\n",
    "# Define the situation\n",
    "traffic_light = \"Yellow\"\n",
    "# Make condition\n",
    "if traffic_light == \"Green\":\n",
    "    print(\"Tou can Go!\")\n",
    "elif traffic_light == \"Yellow\":\n",
    "    print(\"Slow down and prepare to Stop!\")\n",
    "else:\n",
    "    print(\"Stop\")"
   ]
  },
  {
   "cell_type": "markdown",
   "metadata": {},
   "source": [
    "# 2. Sport team eligibilty\n",
    "### Write the program the ask the user for their age and ckecks if they are eligible for basketball team (Age 12 or older)"
   ]
  },
  {
   "cell_type": "code",
   "execution_count": 29,
   "metadata": {},
   "outputs": [
    {
     "name": "stdout",
     "output_type": "stream",
     "text": [
      "Canidate is not Eligible!\n"
     ]
    }
   ],
   "source": [
    "# Sport team eligibilty program\n",
    "# Define the Age\n",
    "Age = int(input(\"Writ Your Age! \"))\n",
    "if Age >= 12: # Define the condition\n",
    "    print(\"The Canidate who is\",Age,\"Years Old is Eligible!\")\n",
    "else:\n",
    "    print(\"Canidate is not Eligible!\")"
   ]
  },
  {
   "cell_type": "markdown",
   "metadata": {},
   "source": [
    "# Intermediate Level (if - elif - else)\n",
    "## Categorizing Temperature Level\n",
    "### Write a program that takes a temperature(C) and print whether it's:\n",
    "### Above 30c it's hot outside.\n",
    "### Between 15c and 30c it's pleasant weather. \n",
    "### Below 15c it's cold outside."
   ]
  },
  {
   "cell_type": "code",
   "execution_count": 27,
   "metadata": {},
   "outputs": [
    {
     "name": "stdout",
     "output_type": "stream",
     "text": [
      "tempreture is hot outside!\n"
     ]
    }
   ],
   "source": [
    "# Define the situation\n",
    "temperature = 30\n",
    "if temperature >=30: # Define the condition\n",
    "    print('tempreture is hot outside!')\n",
    "elif 15 <= temperature <= 30 :\n",
    "    print(\"it's pleasant weather\")\n",
    "else:\n",
    "    print('it cold outside')"
   ]
  }
 ],
 "metadata": {
  "kernelspec": {
   "display_name": "awfera",
   "language": "python",
   "name": "python3"
  },
  "language_info": {
   "codemirror_mode": {
    "name": "ipython",
    "version": 3
   },
   "file_extension": ".py",
   "mimetype": "text/x-python",
   "name": "python",
   "nbconvert_exporter": "python",
   "pygments_lexer": "ipython3",
   "version": "3.10.16"
  }
 },
 "nbformat": 4,
 "nbformat_minor": 2
}
