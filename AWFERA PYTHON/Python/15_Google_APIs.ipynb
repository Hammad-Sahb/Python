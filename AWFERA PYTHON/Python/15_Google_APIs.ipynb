{
 "cells": [
  {
   "cell_type": "markdown",
   "id": "24a88f17",
   "metadata": {},
   "source": [
    "### **Step 1: Introduction to Google AI Studio**\n",
    "\n",
    "* Google AI Studio is a platform that provides access to Google’s AI models, called **Gemini models**.\n",
    "* You can use these models through **APIs in Python** to build advanced AI applications.\n",
    "* The lecture focuses on:\n",
    "\n",
    "  * Advanced features of AI APIs.\n",
    "  * Best practices for understanding and debugging code.\n",
    "  * Encouraging **self-learning** to work with new and evolving AI platforms.\n",
    "\n",
    "---\n",
    "\n",
    "### **Step 2: Advanced Features in AI APIs**\n",
    "\n",
    "* **Multi-Turn Conversations:**\n",
    "  APIs allow creating chat sessions where the AI remembers previous messages (like ChatGPT).\n",
    "  This helps in building conversational agents that can maintain context.\n",
    "\n",
    "* **Configurable Parameters:**\n",
    "  You can control how the model behaves using parameters like:\n",
    "\n",
    "  * **max output length** – controls how long the response can be.\n",
    "  * **top P** and **top K** – control randomness and output diversity.\n",
    "  * **temperature** – controls creativity/randomness in responses.\n",
    "\n",
    "* **Flexibility:**\n",
    "  APIs let you experiment with outputs, customize responses, and create different chat sessions based on your needs.\n",
    "\n",
    "  ### **Step 3: Learning and Understanding API Code**\n",
    "\n",
    "* Focus on understanding **concepts and logic flow** before diving into line-by-line syntax.\n",
    "* Use AI tools like **ChatGPT, Claude, Bard, Perplexity** to help you understand code.\n",
    "* Practice coding with small exercises to learn how APIs work.\n",
    "\n",
    "---\n",
    "\n",
    "### **Step 4: Managing API Keys and Security**\n",
    "\n",
    "* API keys are like passwords that let you access Google’s services.\n",
    "* Keys used in demo notebooks are removed before public release for security.\n",
    "* You must **add your own API key** to run the code.\n",
    "* **Never share your keys** publicly.\n",
    "\n",
    "---\n",
    "\n",
    "### **Step 5: Python Environment and Debugging**\n",
    "\n",
    "* **Language Choice:**\n",
    "  Python is the main language in this guide, but you can also use other languages like Java.\n",
    "\n",
    "* **Debugging:**\n",
    "\n",
    "  * Step through the code **cell by cell** to find errors.\n",
    "  * Use debugging tools to **check variable values** and understand how the program flows. \n",
    "\n",
    "  ### **Step 6: Google AI Studio Overview**\n",
    "\n",
    "* **What is Google AI Studio?**\n",
    "  It’s a centralized platform for Google’s AI models called **Gemini**.\n",
    "\n",
    "  * Capabilities include: **text generation, conversation, content analysis, and multi-modal tasks**.\n",
    "\n",
    "* **Setting Up Google Client in Python:**\n",
    "\n",
    "  1. Install the package:\n"
   ]
  },
  {
   "cell_type": "code",
   "execution_count": 8,
   "id": "879e8c1e",
   "metadata": {},
   "outputs": [],
   "source": [
    "!pip install -q -U google-generativeai"
   ]
  },
  {
   "cell_type": "markdown",
   "id": "8b2e0c6e",
   "metadata": {},
   "source": [
    "  2. Import and configure the API key:"
   ]
  },
  {
   "cell_type": "code",
   "execution_count": 19,
   "id": "8a3430de",
   "metadata": {},
   "outputs": [],
   "source": [
    "# importing the Google Generative AI library\n",
    "import google.generativeai as genai\n",
    "# configuring the API key\n",
    "genai.configure(api_key=\"2_GOOGLE_API_KEY\")"
   ]
  },
  {
   "cell_type": "markdown",
   "id": "a071080e",
   "metadata": {},
   "source": [
    "* **Obtaining API Keys:**\n",
    "\n",
    "  * Visit Google AI Studio website.\n",
    "  * Accept terms about data usage.\n",
    "  * Create new keys and save them in a secure place (like an environment variable or `.env` file).\n",
    "\n",
    "---\n",
    "\n",
    "### **Step 7: Using Google AI Studio APIs**\n",
    "\n",
    "* **List Models:**\n",
    "  Use `genai.list_models()` to see all available models.\n",
    "  Filter models that have **“Gemini”** in their names.\n",
    "\n",
    "* **Example Code:**"
   ]
  },
  {
   "cell_type": "code",
   "execution_count": 20,
   "id": "19d6bb9c",
   "metadata": {},
   "outputs": [
    {
     "name": "stdout",
     "output_type": "stream",
     "text": [
      "Error configuring Google AI Studio client: 400 API key not valid. Please pass a valid API key. [reason: \"API_KEY_INVALID\"\n",
      "domain: \"googleapis.com\"\n",
      "metadata {\n",
      "  key: \"service\"\n",
      "  value: \"generativelanguage.googleapis.com\"\n",
      "}\n",
      ", locale: \"en-US\"\n",
      "message: \"API key not valid. Please pass a valid API key.\"\n",
      "]\n"
     ]
    }
   ],
   "source": [
    "import google.generativeai as genai\n",
    "genai.configure(api_key=\"2_GOOGLE_API_KEY\")\n",
    "\n",
    "try:\n",
    "    models = genai.list_models()\n",
    "    gemini_models = [model.name for model in models if 'gemini' in model.name.lower()]\n",
    "    print(\"Available Gemini models:\")\n",
    "    for model in gemini_models:\n",
    "        print(f\"- {model}\")\n",
    "    print(\"\\nGoogle AI Studio client configured successfully!\")\n",
    "except Exception as e:\n",
    "    print(f\"Error configuring Google AI Studio client: {str(e)}\")\n"
   ]
  },
  {
   "cell_type": "markdown",
   "id": "5b3faae9",
   "metadata": {},
   "source": [
    "* **Define a Function:**\n",
    "  Create a function like `getGeminiResponse(prompt: str)` to send a text prompt to Gemini and receive AI-generated text.\n",
    "\n",
    "---\n",
    "\n",
    "### **Step 8: Reading Documentation**\n",
    "\n",
    "* Google’s **official documentation** is essential for:\n",
    "\n",
    "  * Understanding how to use the API.\n",
    "  * Learning about inputs, outputs, and special model parameters.\n",
    "* Developers should develop the habit of reading docs whenever they use a new platform.\n",
    "\n",
    "---\n",
    "\n",
    "### **Step 9: Encouragement for Self-Learning**\n",
    "\n",
    "* Do not depend entirely on others or tutorials.\n",
    "* Learn to **read and implement APIs independently**.\n",
    "* If you are confident in Python, you can integrate any API.\n",
    "* Always **explore and experiment** when using a new platform.\n",
    "\n",
    "---\n",
    "\n",
    "### **Step 10: Key Question**\n",
    "\n",
    "* **Why learn Google AI Studio if you already know OpenAI?**\n",
    "  Because:\n",
    "  \n",
    "  * Different companies have **different ways of designing APIs**.\n",
    "  * Learning multiple APIs makes you flexible and prepared.\n",
    "  * Each API has **unique features and strengths**.\n",
    "\n",
    "---\n",
    "\n",
    "### **Step 11: Final Thoughts**\n",
    "\n",
    "* Now, you’re moving from learning OpenAI APIs to Google’s AI Studio.\n",
    "* The focus is on:\n",
    "\n",
    "  * **Adapting** to different API designs.\n",
    "  * **Using official documentation.**\n",
    "  * **Building debugging and self-learning skills.**\n",
    "* Google Gemini models provide **powerful tools for advanced AI applications**."
   ]
  }
 ],
 "metadata": {
  "kernelspec": {
   "display_name": "first_env",
   "language": "python",
   "name": "python3"
  },
  "language_info": {
   "codemirror_mode": {
    "name": "ipython",
    "version": 3
   },
   "file_extension": ".py",
   "mimetype": "text/x-python",
   "name": "python",
   "nbconvert_exporter": "python",
   "pygments_lexer": "ipython3",
   "version": "3.10.16"
  }
 },
 "nbformat": 4,
 "nbformat_minor": 5
}
