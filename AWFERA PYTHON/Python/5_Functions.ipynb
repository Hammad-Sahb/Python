{
 "cells": [
  {
   "cell_type": "markdown",
   "id": "abaac071",
   "metadata": {},
   "source": [
    "### What is function?\n",
    "1. A function is a reuseable block of code designed to perform a specific task.\n",
    "2. Function helps break down a large programe into smaller, manageable parts.\n",
    "3. They make code esier to read, debug, and maintain.\n",
    "4. When a funtion is called, it runs a set of instructions and may return a resut"
   ]
  },
  {
   "cell_type": "markdown",
   "id": "f967c8b6",
   "metadata": {},
   "source": [
    "### Why use funstions?\n",
    "1. Avod repetation\n",
    "2. Organized & Modular\n",
    "3. Esier Debugging\n",
    "4. Reuseability\n",
    "5. Enhances Collaboration"
   ]
  },
  {
   "cell_type": "markdown",
   "id": "a39d63c2",
   "metadata": {},
   "source": [
    "# Types of functions in Python\n",
    "1. Build-in Functions (Predefined in Python)\n",
    "2. User-defined Functions (Functions created by the Programmer)\n",
    "## Example of print() function for understanding all the functions easly.\n",
    "1. Define the Purpose = Displays the output on the the sacreen\n",
    "2. Understand the use case = Like a waiter serving the customers\n",
    "3. Implement in the code = Print('Helllo World!')"
   ]
  },
  {
   "cell_type": "code",
   "execution_count": 1,
   "id": "42f99198",
   "metadata": {},
   "outputs": [
    {
     "name": "stdout",
     "output_type": "stream",
     "text": [
      "Welcome to Python functions!\n"
     ]
    }
   ],
   "source": [
    "# The print function displays output \n",
    "print('Welcome to Python functions!')"
   ]
  },
  {
   "cell_type": "code",
   "execution_count": 3,
   "id": "dac64897",
   "metadata": {},
   "outputs": [
    {
     "name": "stdout",
     "output_type": "stream",
     "text": [
      "Hello! Hammad Yousaf\n"
     ]
    }
   ],
   "source": [
    "# The input() function takes the user input\n",
    "name = input('Enter your name: ')\n",
    "print('Hello!', name)"
   ]
  },
  {
   "cell_type": "code",
   "execution_count": 4,
   "id": "99cb12aa",
   "metadata": {},
   "outputs": [
    {
     "name": "stdout",
     "output_type": "stream",
     "text": [
      "The type of num is:  <class 'int'>\n"
     ]
    }
   ],
   "source": [
    "# The type() function returns the type of function\n",
    "num = 18\n",
    "print('The type of num is: ', type(num))"
   ]
  },
  {
   "cell_type": "code",
   "execution_count": 5,
   "id": "665d5d97",
   "metadata": {},
   "outputs": [
    {
     "name": "stdout",
     "output_type": "stream",
     "text": [
      "The lenght of word is: 6\n"
     ]
    }
   ],
   "source": [
    "# The len() function returns the lenght of object\n",
    "word = 'Python'\n",
    "print('The lenght of word is:', len(word))"
   ]
  },
  {
   "cell_type": "code",
   "execution_count": 7,
   "id": "8fe9eb9d",
   "metadata": {},
   "outputs": [
    {
     "name": "stdout",
     "output_type": "stream",
     "text": [
      "The highest price in the menu:  93\n"
     ]
    }
   ],
   "source": [
    "# The max() function returns the largest number of list\n",
    "price_list = [23, 45, 68, 15, 18, 90, 93]\n",
    "highest_price = max(price_list)\n",
    "print('The highest price in the menu: ', highest_price)"
   ]
  },
  {
   "cell_type": "code",
   "execution_count": 9,
   "id": "a6d7b21e",
   "metadata": {},
   "outputs": [
    {
     "name": "stdout",
     "output_type": "stream",
     "text": [
      "[1, 2, 3, 4, 5, 6, 7, 8, 9]\n"
     ]
    }
   ],
   "source": [
    "# sorted()\n",
    "# Purpose: Return a sorted version of a list.\n",
    "# Use Case: Sort values for analysis or reporting.\n",
    "num_list = [9, 8, 7, 6, 5, 4, 3, 2, 1]\n",
    "num_list_sorted = sorted(num_list)\n",
    "print(num_list_sorted)"
   ]
  },
  {
   "cell_type": "code",
   "execution_count": 10,
   "id": "3af4e14b",
   "metadata": {},
   "outputs": [
    {
     "name": "stdout",
     "output_type": "stream",
     "text": [
      "Dish 1 is ready\n",
      "Dish 2 is ready\n",
      "Dish 3 is ready\n",
      "Dish 4 is ready\n",
      "Dish 5 is ready\n"
     ]
    }
   ],
   "source": [
    "# Generates a seguence of numbers by using range\n",
    "for i in range(5):\n",
    "    print('Dish' , i+1, 'is ready')"
   ]
  },
  {
   "cell_type": "code",
   "execution_count": 11,
   "id": "0cac6c5e",
   "metadata": {},
   "outputs": [
    {
     "name": "stdout",
     "output_type": "stream",
     "text": [
      "The memory address of x is:  2364089894512\n"
     ]
    }
   ],
   "source": [
    "# Return the memory address of an object\n",
    "x = 45\n",
    "print('The memory address of x is: ',id(x))"
   ]
  },
  {
   "cell_type": "code",
   "execution_count": 12,
   "id": "cb3ba52a",
   "metadata": {},
   "outputs": [
    {
     "name": "stdout",
     "output_type": "stream",
     "text": [
      "The result of expression is:  17\n"
     ]
    }
   ],
   "source": [
    "# Evaluates expressions\n",
    "expression = \"5 + 6 * 2\"\n",
    "Result = eval(expression)\n",
    "print('The result of expression is: ', Result)"
   ]
  },
  {
   "cell_type": "markdown",
   "id": "d0bfcf3c",
   "metadata": {},
   "source": [
    "# User defined Functions in Python\n",
    "A function is a reuseable block of code that that perform a specific task instead of writing same instructions repeatedly, we define a function and use it whenever needed.\n",
    "## Key componenets of a user defined function\n",
    "1. def / A keyword that marks the beginnig of the function.\n",
    "2. function_name / A unique name that identifying the function.\n",
    "3. parameters (optional) / values that passed to the function for processing.\n",
    "4. : (colon) / markes the end of the function header.\n",
    "5. function body / contains the logic (instructions) that the function exicutes.\n",
    "6. ''' docstring''' / used to define what the function does.\n",
    "7. return (optional) / returns the result to the caller."
   ]
  },
  {
   "cell_type": "code",
   "execution_count": 4,
   "id": "75e4a7a2",
   "metadata": {},
   "outputs": [
    {
     "name": "stdout",
     "output_type": "stream",
     "text": [
      "Number 1 is: 5\n",
      "Number 2 is: 8\n",
      "Result:  13\n"
     ]
    }
   ],
   "source": [
    "# Define a function named add that takes two number as a parameter\n",
    "def add(num1 , num2):\n",
    "    '''This function takes two numbers, adds them and returns the sum'''\n",
    "    print('Number 1 is:', num1) #print the num1 \n",
    "    print('Number 2 is:', num2) #print the num2\n",
    "    addition = num1 + num2 #Adding\n",
    "    return addition # Returning the result\n",
    "# Calling the function and storing the result\n",
    "res = add(5 , 8)\n",
    "print('Result: ', res)"
   ]
  },
  {
   "cell_type": "markdown",
   "id": "5b52a81c",
   "metadata": {},
   "source": [
    "Function can be declared without parameters"
   ]
  },
  {
   "cell_type": "code",
   "execution_count": 2,
   "id": "a3959e9c",
   "metadata": {},
   "outputs": [
    {
     "name": "stdout",
     "output_type": "stream",
     "text": [
      "Well comm to the Python Course at AWFERA\n"
     ]
    }
   ],
   "source": [
    "# Greeting Function\n",
    "def greet():\n",
    "    print('Well comm to the Python Course at AWFERA')\n",
    "    # call the greet function\n",
    "greet()"
   ]
  },
  {
   "cell_type": "markdown",
   "id": "9235dea4",
   "metadata": {},
   "source": [
    "# Function Arguments and Return Statement\n",
    "Function arguments allow us to pass values into a function, making it more flexible and reuseable.\n",
    "There are four types of arguments:\n",
    "1. Default Arguments\n",
    "2. Keyword Arguments\n",
    "3. Required Arguments\n",
    "4. Veriable-Length Arguments"
   ]
  },
  {
   "cell_type": "code",
   "execution_count": 4,
   "id": "58ce6cfb",
   "metadata": {},
   "outputs": [
    {
     "name": "stdout",
     "output_type": "stream",
     "text": [
      "Hammad Yousaf Jalali\n"
     ]
    }
   ],
   "source": [
    "# Function with the default middle name\n",
    "def name(fname, mname = 'Yousaf', lname = 'Jalali'):\n",
    "    print(fname,mname,lname)\n",
    "    # Calling the function with first name\n",
    "name('Hammad')    "
   ]
  },
  {
   "cell_type": "code",
   "execution_count": null,
   "id": "f66bea9f",
   "metadata": {},
   "outputs": [
    {
     "name": "stdout",
     "output_type": "stream",
     "text": [
      "Hammad Yousaf Jalali\n",
      "hammad Yousaf Jalali\n"
     ]
    }
   ],
   "source": [
    "# Function with the keyword Argument name\n",
    "def name(fname, mname, lname):\n",
    "    print(fname,mname,lname)\n",
    "    # Calling the function with first name\n",
    "name('Hammad','Yousaf','Jalali')\n",
    "name(lname='Jalali',fname='hammad',mname='Yousaf')   "
   ]
  },
  {
   "cell_type": "code",
   "execution_count": 3,
   "id": "de9f1151",
   "metadata": {},
   "outputs": [
    {
     "name": "stdout",
     "output_type": "stream",
     "text": [
      "Hello!  Hammad Yousaf Jalali\n"
     ]
    }
   ],
   "source": [
    "# Function with args(Tuple of Arguments)\n",
    "def name(*names):\n",
    "    print('Hello! ',names[0],names[1],names[2])\n",
    "    # Calling the function with first name\n",
    "name('Hammad','Yousaf','Jalali')"
   ]
  },
  {
   "cell_type": "code",
   "execution_count": 5,
   "id": "2d382834",
   "metadata": {},
   "outputs": [
    {
     "name": "stdout",
     "output_type": "stream",
     "text": [
      "Full name is:  Hammad Yousaf Jalali\n"
     ]
    }
   ],
   "source": [
    "# Function returning full name\n",
    "def name(fname, mname, lname):\n",
    "    return fname + ' ' + mname + ' ' + lname\n",
    "# Calling the function with printing the result\n",
    "name = name('Hammad','Yousaf','Jalali')\n",
    "print('Full name is: ', name)"
   ]
  }
 ],
 "metadata": {
  "kernelspec": {
   "display_name": "awfera",
   "language": "python",
   "name": "python3"
  },
  "language_info": {
   "codemirror_mode": {
    "name": "ipython",
    "version": 3
   },
   "file_extension": ".py",
   "mimetype": "text/x-python",
   "name": "python",
   "nbconvert_exporter": "python",
   "pygments_lexer": "ipython3",
   "version": "3.10.16"
  }
 },
 "nbformat": 4,
 "nbformat_minor": 5
}
