{
 "cells": [
  {
   "cell_type": "markdown",
   "id": "d10f6f77",
   "metadata": {},
   "source": [
    "\n",
    "\n",
    "\n",
    "```\n",
    "\n",
    "---\n",
    "\n",
    "\n",
    "\n",
    "\n",
    "```\n",
    "\n",
    "---\n",
    "\n",
    "\n",
    "\n",
    "---\n",
    "\n",
    "\n",
    "\n",
    "```python\n",
    "\n",
    "```\n",
    "\n",
    "### 🔍 Example Usage:\n",
    "\n",
    "```python\n",
    "tool = MathTool(5)\n",
    "print(tool.area())  # 78.53975\n",
    "\n",
    "tool2 = MathTool.from_diameter(10)\n",
    "print(tool2.radius)  # 5.0\n",
    "\n",
    "print(MathTool.is_valid_radius(-1))  # False\n",
    "```\n",
    "\n",
    "---\n",
    "\n",
    "## 7️⃣ **Quick Comparison Table**\n",
    "\n",
    "| Feature          | Instance Method | Class Method          | Static Method         |\n",
    "| ---------------- | --------------- | --------------------- | --------------------- |\n",
    "| Decorator        | None            | `@classmethod`        | `@staticmethod`       |\n",
    "| First Parameter  | `self` (object) | `cls` (class)         | No required parameter |\n",
    "| Access Instance? | ✅ Yes           | ❌ No                  | ❌ No                  |\n",
    "| Access Class?    | ❌ No            | ✅ Yes                 | ❌ No                  |\n",
    "| Use Case         | Object behavior | Alternate constructor | Utility/helper method |\n",
    "\n",
    "---\n",
    "\n",
    "## ✅ **Final Thoughts**\n",
    "\n",
    "* **Instance Methods**: Use when method needs to access or modify the object’s data.\n",
    "* **Class Methods**: Use when method deals with class-level logic or alternate constructors.\n",
    "* **Static Methods**: Use for independent logic that fits the class context.\n",
    "\n",
    "> **Practice Tip:** Always start by building small examples and test each type of method separately to master their behavior and usage.\n",
    "\n",
    "Would you like a PDF version of this summary or some exercises to test your understanding?\n"
   ]
  },
  {
   "cell_type": "markdown",
   "id": "b16483f1",
   "metadata": {},
   "source": [
    "## 🧠 **Concept of Methods in Python OOP**\n",
    "\n",
    "### 📌 **Introduction**\n",
    "\n",
    "In Object-Oriented Programming (OOP), a **method** is a function that is defined inside a class and is used to operate on **instances (objects)** of that class. Methods allow objects to **interact with their data** and define **behaviors**.\n",
    "\n",
    "This lecture explained **three main types of methods**:\n",
    "\n",
    "* **Instance Methods**\n",
    "* **Class Methods**\n",
    "* **Static Methods**\n",
    "\n",
    "## 1️⃣ **Overview: Class and Method Basics**\n",
    "\n",
    "* A **class** is a blueprint for creating objects (instances).\n",
    "* Each object can have its **own attributes** and behaviors (methods).\n",
    "* A **method** is a function **inside** a class that defines how an object behaves or changes."
   ]
  },
  {
   "cell_type": "code",
   "execution_count": 4,
   "id": "f23237a6",
   "metadata": {},
   "outputs": [],
   "source": [
    "### 🎯 Example:\n",
    "# This code defines a class `House` with an initializer that takes a color as an argument.\n",
    "class House:\n",
    "    def __init__(self, color):\n",
    "        self.color = color\n",
    "\n",
    "    def show_color(self):\n",
    "        print(f\"This house is painted {self.color}\")"
   ]
  },
  {
   "cell_type": "markdown",
   "id": "899dce2a",
   "metadata": {},
   "source": [
    "## 2️⃣ **Instance Methods**\n",
    "\n",
    "* Most commonly used method type.\n",
    "* **First parameter is always `self`**, referring to the object calling the method.\n",
    "* Can **access and modify instance attributes**."
   ]
  },
  {
   "cell_type": "code",
   "execution_count": 2,
   "id": "5e5eb0f7",
   "metadata": {},
   "outputs": [
    {
     "name": "stdout",
     "output_type": "stream",
     "text": [
      "This house is painted red\n"
     ]
    }
   ],
   "source": [
    "class House: # A simple class to represent a house with a color attribute\n",
    "    def __init__(self, color): # Constructor to initialize the house with a color\n",
    "        self.color = color # Store the color of the house\n",
    "#       # Instance Method to display the color of the house\n",
    "    def show_color(self): \n",
    "        print(f\"This house is painted {self.color}\") # Print the color of the house\n",
    "# Example usage of the House class\n",
    "my_house = House(\"red\")\n",
    "# Call the method to display the color of the house\n",
    "my_house.show_color()  # Output: This house is painted red"
   ]
  },
  {
   "cell_type": "markdown",
   "id": "dd374098",
   "metadata": {},
   "source": [
    "## Mini Challenge: add an instance method to calculate or modify object state"
   ]
  },
  {
   "cell_type": "code",
   "execution_count": 5,
   "id": "0f49fda2",
   "metadata": {},
   "outputs": [
    {
     "name": "stdout",
     "output_type": "stream",
     "text": [
      "The area of the circle is: 78.5\n"
     ]
    }
   ],
   "source": [
    "# Mini Challenge: add an instance method to calculate or modify object state\n",
    "class Circle:\n",
    "    def __init__(self, radius):\n",
    "        self.radius = radius\n",
    "\n",
    "    def area(self):\n",
    "        return 3.14 * self.radius * self.radius\n",
    "    \n",
    "circle = Circle(5)  # Create an instance of Circle with radius 5\n",
    "print(f\"The area of the circle is: {circle.area()}\")  # Output the area of the circle"
   ]
  },
  {
   "cell_type": "markdown",
   "id": "bd5d3c3f",
   "metadata": {},
   "source": [
    "## 3️⃣ **Class Methods**\n",
    "\n",
    "* **Used to define behaviors related to the class** (not just one instance).\n",
    "* **Use the `@classmethod` decorator**.\n",
    "* First parameter is always `cls` (referring to the class itself).\n",
    "* Often used as **factory methods** (alternate constructors)."
   ]
  },
  {
   "cell_type": "code",
   "execution_count": 6,
   "id": "4ddc6e98",
   "metadata": {},
   "outputs": [
    {
     "name": "stdout",
     "output_type": "stream",
     "text": [
      "24\n"
     ]
    }
   ],
   "source": [
    "### ✅ Example:\n",
    "class House: # A class to represent a house with color and age attributes\n",
    "    def __init__(self, color, age): # Constructor to initialize the attributes\n",
    "        self.color = color # Store the color of the house\n",
    "        self.age = age # Store the age of the house\n",
    "\n",
    "    @classmethod # Class method to create a House instance based on construction year\n",
    "    def from_construction_year(cls, color, year): # Method to create a House instance based on construction year\n",
    "        return cls(color, 2024 - year) # Calculate age based on the current year\n",
    "\n",
    "my_house = House.from_construction_year(\"white\", 2000) # Create a House instance using the class method\n",
    "print(my_house.age)  # Output: 24"
   ]
  },
  {
   "cell_type": "markdown",
   "id": "f8b2c9a0",
   "metadata": {},
   "source": [
    "## 4️⃣ **Static Methods**\n",
    "\n",
    "* Do not access the instance (`self`) or class (`cls`).\n",
    "* Used for **utility functions** that relate to the class but don’t need its data.\n",
    "* Defined using the `@staticmethod` decorator."
   ]
  },
  {
   "cell_type": "code",
   "execution_count": 7,
   "id": "304c1b4b",
   "metadata": {},
   "outputs": [
    {
     "name": "stdout",
     "output_type": "stream",
     "text": [
      "True\n",
      "False\n"
     ]
    }
   ],
   "source": [
    "### ✅ Example:\n",
    "class House: # A class to represent a house with a color attribute\n",
    "    @staticmethod # Static method to validate the area of a house\n",
    "    def is_valid_area(area): # Checks if the area is valid (greater than 0)\n",
    "        return area > 0 # Return True if area is valid, otherwise False\n",
    "print(House.is_valid_area(120))   # True\n",
    "print(House.is_valid_area(-50))   # False"
   ]
  },
  {
   "cell_type": "markdown",
   "id": "ae1e627c",
   "metadata": {},
   "source": [
    "## 5️⃣ **Functions vs Methods**\n",
    "\n",
    "| Feature  | Function                         | Method                            |\n",
    "| -------- | -------------------------------- | --------------------------------- |\n",
    "| Location | Defined outside a class          | Defined inside a class            |\n",
    "| Binding  | Not bound to a class or instance | Bound to instance/class           |\n",
    "| Usage    | General-purpose                  | Object- or class-related behavior |"
   ]
  },
  {
   "cell_type": "markdown",
   "id": "70dcec04",
   "metadata": {},
   "source": [
    "## 6️⃣ **Combined Practical Example: MathTool Class**"
   ]
  },
  {
   "cell_type": "code",
   "execution_count": null,
   "id": "3cbecafe",
   "metadata": {},
   "outputs": [],
   "source": [
    "class MathTool: # A class to perform mathematical operations related to circles\n",
    "    pi = 3.14159 # Class variable representing the value of pi\n",
    "\n",
    "    def __init__(self, radius): # Constructor to initialize the radius of the circle\n",
    "        self.radius = radius # Store the radius of the circle\n",
    "\n",
    "    def area(self):  # Instance Method\n",
    "        return MathTool.pi * self.radius * self.radius # Calculate the area of the circle\n",
    "\n",
    "    @classmethod\n",
    "    def from_diameter(cls, diameter):  # Class Method\n",
    "        return cls(diameter / 2) # Create a new instance of the class with the diameter divided by 2\n",
    "\n",
    "    @staticmethod\n",
    "    def is_valid_radius(radius):  # Static Method\n",
    "        return radius > 0 # Check if the radius is valid (greater than 0)"
   ]
  }
 ],
 "metadata": {
  "kernelspec": {
   "display_name": "first_env",
   "language": "python",
   "name": "python3"
  },
  "language_info": {
   "codemirror_mode": {
    "name": "ipython",
    "version": 3
   },
   "file_extension": ".py",
   "mimetype": "text/x-python",
   "name": "python",
   "nbconvert_exporter": "python",
   "pygments_lexer": "ipython3",
   "version": "3.10.16"
  }
 },
 "nbformat": 4,
 "nbformat_minor": 5
}
