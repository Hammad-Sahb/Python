{
 "cells": [
  {
   "cell_type": "markdown",
   "id": "b9fea91f",
   "metadata": {},
   "source": [
    "## 🌟 Python Decorators\n",
    "\n",
    "### 🔸 What is a Decorator?\n",
    "\n",
    "A **decorator** in Python is a special type of function that allows you to **modify, extend, or enhance the behavior of another function or method** without changing its actual code. Decorators follow the **principle of higher-order functions**, which means they can take other functions as arguments and return functions as results.\n",
    "\n",
    "### 🔸 Key Features of Decorators\n",
    "\n",
    "* ✅ **Code Reusability**\n",
    "  Allows the reuse of logic across multiple functions without repeating code.\n",
    "\n",
    "* ✅ **Separation of Concerns**\n",
    "  Keeps additional responsibilities (e.g., logging, authentication) separate from core logic.\n",
    "\n",
    "* ✅ **Readable Syntax**\n",
    "  Decorators use the `@decorator_name` syntax, making the code cleaner and more readable.\n",
    "\n",
    "* ✅ **Flexible Functionality**\n",
    "  Can be used to modify input/output, run pre/post function logic, or completely replace a function.\n",
    "\n",
    "* ✅ **Applicable to Classes and Methods**\n",
    "  Can be applied not just to functions, but also to class methods using built-in decorators like `@classmethod`, `@staticmethod`, and `@property`.\n",
    "\n",
    "* ✅ **Supports Nested and Custom Use Cases**\n",
    "  Decorators can be nested and parameterized to support more complex behaviors.\n",
    "\n",
    "* ✅ **Widely Used in Frameworks**\n",
    "  Commonly used in web development frameworks (e.g., Flask, Django) for routing, authorization, and more.\n",
    "\n",
    "### 🔸 Practical Use Cases\n",
    "\n",
    "* 🔹 Logging function calls\n",
    "* 🔹 Measuring execution time\n",
    "* 🔹 Authorization checks\n",
    "* 🔹 Input validation\n",
    "* 🔹 Caching results\n",
    "* 🔹 Applying retry logic"
   ]
  },
  {
   "cell_type": "code",
   "execution_count": null,
   "id": "04231d85",
   "metadata": {},
   "outputs": [
    {
     "data": {
      "text/plain": [
       "<function __main__.function_to_decorate()>"
      ]
     },
     "execution_count": 2,
     "metadata": {},
     "output_type": "execute_result"
    }
   ],
   "source": [
    "# ✅ Python Decorator Syntax\n",
    "# Step 1: Define the decorator function\n",
    "\n",
    "def decorator_name(original_function):\n",
    "    def wrapper_function():\n",
    "        # Code after the original function runs\n",
    "        return original_function\n",
    "    return wrapper_function\n",
    "# Step 2: Apply the decorator using @\n",
    "@decorator_name\n",
    "def function_to_decorate():\n",
    "    # Original function code\n",
    "    pass\n",
    "\n",
    "# Step 3: Call the decorated function\n",
    "function_to_decorate()\n",
    "#🔸 Explanation of Each Part\n",
    "\n",
    "# `decorator_name`: Name of the decorator function.\n",
    "# `original_function`: The function being decorated.\n",
    "# `wrapper_function`: Inner function that adds new behavior.\n",
    "# @decorator_name: Syntactic sugar for function_to_decorate = decorator_name(function_to_decorate)"
   ]
  },
  {
   "cell_type": "markdown",
   "id": "6facc09d",
   "metadata": {},
   "source": [
    "### Example: A simple decorator that logs function call"
   ]
  },
  {
   "cell_type": "code",
   "execution_count": 7,
   "id": "ea0f26b1",
   "metadata": {},
   "outputs": [
    {
     "name": "stdout",
     "output_type": "stream",
     "text": [
      "Calling_Function: 'greet' is being called\n",
      "Hello\n"
     ]
    }
   ],
   "source": [
    "# Define a decorator function that takes a anothr function as an argument\n",
    "def log_decorator(func):\n",
    "    # define the wrapper function that will modify the behavior of the orignal function\n",
    "    def wrapper():\n",
    "        print(f\"Calling_Function: '{func.__name__}' is being called\")\n",
    "        return func() # Call the orignal function\n",
    "    return wrapper # Return the modified function\n",
    "\n",
    "# Apply the decorator on greet using @\n",
    "@log_decorator\n",
    "def greet():\n",
    "    print(\"Hello\")\n",
    "\n",
    "# Call the decorated function\n",
    "greet()\n"
   ]
  },
  {
   "cell_type": "markdown",
   "id": "873cc86a",
   "metadata": {},
   "source": [
    "# Python Decorators Explained with Doctor Consultation Example"
   ]
  },
  {
   "cell_type": "code",
   "execution_count": null,
   "id": "770d3347",
   "metadata": {},
   "outputs": [],
   "source": [
    "import time\n",
    "\n",
    "# Decorator to log patient details before consultation\n",
    "def log_decorator(func):\n",
    "    def wrapper(patient_name):\n",
    "        print(f\"Recording patient details: {patient_name}\")\n",
    "        return func(patient_name)  # Call the original function\n",
    "    return wrapper\n",
    "\n",
    "# Decorator to measure consultation time\n",
    "def timer_decorator(func):\n",
    "    def wrapper(patient_name):\n",
    "        start = time.time()  # Record start time\n",
    "        result = func(patient_name)  # Call the original function\n",
    "        end = time.time()  # Record end time\n",
    "        print(f\"Consultation time: {end - start:.2f} seconds\")\n",
    "        return result\n",
    "    return wrapper\n",
    "\n",
    "# Applying multiple decorators to a doctor's consultation\n",
    "@log_decorator  # First, log patient details\n",
    "@timer_decorator  # Then, measure consultation time\n",
    "def doctor_consultation(patient_name):\n",
    "    print(f\"Doctor is consulting {patient_name}\")\n",
    "    time.sleep(1)  # Simulate consultation time\n",
    "\n",
    "# Using the decorated function\n",
    "doctor_consultation(\"John Doe\")"
   ]
  },
  {
   "cell_type": "markdown",
   "id": "93a62999",
   "metadata": {},
   "source": [
    "## Explanation:\n",
    "\n",
    "### 1. Decorator Basics:\n",
    "\n",
    "Decorators are functions that modify the behavior of other functions. They take a function as input and return a new function.\n",
    "\n",
    "### 2. `log_decorator`:\n",
    "\n",
    "* **Purpose**: Logs patient details before the consultation\n",
    "* **Mechanism**:\n",
    "\n",
    "  * `func` is the original function being decorated\n",
    "  * `wrapper` is the new function that adds logging functionality\n",
    "  * Prints the patient name before calling the original function\n",
    "\n",
    "### 3. `timer_decorator`:\n",
    "\n",
    "* **Purpose**: Measures how long the consultation takes\n",
    "* **Mechanism**:\n",
    "\n",
    "  * Records start time before calling the original function\n",
    "  * Records end time after the function completes\n",
    "  * Calculates and prints the duration\n",
    "  * `:.2f` formats the time to 2 decimal places\n",
    "\n",
    "### 4. Multiple Decorators:\n",
    "\n",
    "* The order matters! Decorators are applied from bottom to top:\n",
    "\n",
    "  1. `@timer_decorator` wraps the original function first\n",
    "  2. `@log_decorator` wraps the already timer-decorated function\n",
    "* Equivalent to: `doctor_consultation = log_decorator(timer_decorator(doctor_consultation))`\n",
    "\n",
    "### 5. Execution Flow:\n",
    "\n",
    "1. `log_decorator`'s wrapper is called first (prints patient details)\n",
    "2. Then `timer_decorator`'s wrapper starts timing\n",
    "3. Original `doctor_consultation` function runs\n",
    "4. `timer_decorator` completes timing and prints duration\n",
    "5. Control returns to `log_decorator` which returns the final result\n",
    "\n",
    "### Expected Output:\n",
    "\n",
    "```\n",
    "Recording patient details: John Doe\n",
    "Doctor is consulting John Doe\n",
    "Consultation time: 1.00 seconds\n",
    "```\n",
    "\n",
    "### Common Uses of Decorators:\n",
    "\n",
    "* Logging\n",
    "* Timing/benchmarking\n",
    "* Authentication/authorization\n",
    "* Input validation\n",
    "* Caching/memoization\n",
    "* Rate limiting"
   ]
  }
 ],
 "metadata": {
  "kernelspec": {
   "display_name": "awfera",
   "language": "python",
   "name": "python3"
  },
  "language_info": {
   "codemirror_mode": {
    "name": "ipython",
    "version": 3
   },
   "file_extension": ".py",
   "mimetype": "text/x-python",
   "name": "python",
   "nbconvert_exporter": "python",
   "pygments_lexer": "ipython3",
   "version": "3.10.16"
  }
 },
 "nbformat": 4,
 "nbformat_minor": 5
}
