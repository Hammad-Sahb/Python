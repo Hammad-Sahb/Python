{
 "cells": [
  {
   "cell_type": "markdown",
   "id": "e2f88996",
   "metadata": {},
   "source": [
    "# Numpy Python Library\n",
    "NumPy (short for Numerical Python ) is one of the most fundamental libraries in Python for `scientific computing`. It provides support for large, multi-dimensional arrays and matrices along with a collection of mathematical functions to operate on arrays.\n",
    "\n",
    "At its core it introduces the ndarray (n-dimensional array) object which allows us to `store and manipulate` large datasets in a memory-efficient manner. Unlike Python's built-in lists, NumPy arrays are homogeneous and enable faster operations."
   ]
  },
  {
   "cell_type": "markdown",
   "id": "45c4e486",
   "metadata": {},
   "source": [
    "# Important Facts to Know :\n",
    "\n",
    "1. Vectorized Operations: NumPy operations are faster than Python lists because they use optimized C-based functions.\n",
    "\n",
    "2. Broadcasting Feature: NumPy allows operations between arrays of different shapes without explicit looping known as broadcasting making it  easier to handle large datasets."
   ]
  },
  {
   "cell_type": "markdown",
   "id": "bf023f43",
   "metadata": {},
   "source": [
    "# What is NumPy Used for?\n",
    "\n",
    "1. With NumPy, you can perform a wide range of numerical operations, including:\n",
    "2. Creating and manipulating arrays.\n",
    "3. Performing element-wise and matrix operations.\n",
    "4. Generating random numbers and statistical calculations.\n",
    "5. Conducting linear algebra operations.\n",
    "6. Working with Fourier transformations.\n",
    "7. Handling missing values efficiently in datasets.\n",
    "\n",
    "# Why Learn NumPy?\n",
    "\n",
    "1. NumPy speeds up math operations like addition and multiplication on large groups of numbers compared to regular Python..\n",
    "2. It’s good for handling large lists of numbers (arrays), so you don’t have to write complicated loops.\n",
    "3. It gives ready-to-use functions for statistics, algebra and random numbers.\n",
    "4. Libraries like Pandas, SciPy, TensorFlow and many others are built on top of NumPy.\n",
    "5. NumPy uses less memory and stores data more efficiently, which matters when working with lots of data."
   ]
  },
  {
   "cell_type": "markdown",
   "id": "78c1344a",
   "metadata": {},
   "source": [
    "# Key Features of NumPy\n",
    "NumPy has various features that make it popular over lists.\n",
    "\n",
    "1. N-Dimensional Arrays: NumPy's core feature is ndarray, a powerful N-dimensional array object that supports homogeneous data types.\n",
    "2. Arrays with High Performance: Arrays are stored in contiguous memory locations, enabling faster computations than Python lists.\n",
    "3. Broadcasting: This allows element-wise computations between arrays of different shapes. It simplifies operations on arrays of various shapes by automatically aligning their dimensions without creating new data.\n",
    "4. Vectorization: Eliminates the need for explicit Python loops by applying operations directly on entire arrays.\n",
    "5. Linear algebra: NumPy contains routines for linear algebra operations, such as matrix multiplication, decompositions, and determinants."
   ]
  },
  {
   "cell_type": "markdown",
   "id": "9a35ce23",
   "metadata": {},
   "source": [
    "# Creating NumPy Arrays\n",
    "Using ndarray : The array object is called ndarray. NumPy arrays are created using the array() function."
   ]
  },
  {
   "cell_type": "code",
   "execution_count": 1,
   "id": "f7c4254d",
   "metadata": {},
   "outputs": [
    {
     "name": "stdout",
     "output_type": "stream",
     "text": [
      "[1 2 3]\n",
      "[[1 2]\n",
      " [3 4]]\n",
      "[[[1 2]\n",
      "  [3 4]]\n",
      "\n",
      " [[5 6]\n",
      "  [7 8]]]\n"
     ]
    }
   ],
   "source": [
    "import numpy as np\n",
    "\n",
    "# Creating a 1D array\n",
    "x = np.array([1, 2, 3])\n",
    "\n",
    "# Creating a 2D array\n",
    "y = np.array([[1, 2], [3, 4]])\n",
    "\n",
    "# Creating a 3D array\n",
    "z = np.array([[[1, 2], [3, 4]], [[5, 6], [7, 8]]])\n",
    "\n",
    "print(x)\n",
    "print(y)\n",
    "print(z)"
   ]
  },
  {
   "cell_type": "markdown",
   "id": "eab2b249",
   "metadata": {},
   "source": [
    "# Using Numpy Functions: \n",
    "NumPy provides convenient methods to create arrays initialized with specific values like zeros and ones:"
   ]
  },
  {
   "cell_type": "code",
   "execution_count": 2,
   "id": "bfe7d690",
   "metadata": {},
   "outputs": [
    {
     "name": "stdout",
     "output_type": "stream",
     "text": [
      "[[0. 0. 0.]\n",
      " [0. 0. 0.]\n",
      " [0. 0. 0.]]\n",
      "[[1. 1.]\n",
      " [1. 1.]]\n",
      "[0 2 4 6 8]\n"
     ]
    }
   ],
   "source": [
    "import numpy as np\n",
    "\n",
    "a1_zeros = np.zeros((3, 3))\n",
    "a2_ones = np.ones((2, 2))\n",
    "a3_range = np.arange(0, 10, 2)\n",
    "\n",
    "print(a1_zeros)\n",
    "print(a2_ones)\n",
    "print(a3_range)"
   ]
  },
  {
   "cell_type": "markdown",
   "id": "2359ae37",
   "metadata": {},
   "source": [
    "# NumPy Array Indexing\n",
    "Knowing the basics of NumPy array indexing is important for analyzing and manipulating the array object.\n",
    "\n",
    "Basic Indexing: Basic indexing in NumPy allows you to access elements of an array using indices.\n",
    "Example:"
   ]
  },
  {
   "cell_type": "code",
   "execution_count": 3,
   "id": "ea9f46e3",
   "metadata": {},
   "outputs": [
    {
     "name": "stdout",
     "output_type": "stream",
     "text": [
      "Single element access: 30\n",
      "Negative indexing: 50\n",
      "Multidimensional array access: 4\n"
     ]
    }
   ],
   "source": [
    "import numpy as np\n",
    "\n",
    "# Create a 1D array\n",
    "arr1d = np.array([10, 20, 30, 40, 50])\n",
    "\n",
    "# Single element access\n",
    "print(\"Single element access:\", arr1d[2])  \n",
    "\n",
    "# Negative indexing\n",
    "print(\"Negative indexing:\", arr1d[-1])  \n",
    "\n",
    "# Create a 2D array\n",
    "arr2d = np.array([[1, 2, 3], [4, 5, 6], [7, 8, 9]])\n",
    "\n",
    "# Multidimensional array access\n",
    "print(\"Multidimensional array access:\", arr2d[1, 0])"
   ]
  },
  {
   "cell_type": "markdown",
   "id": "f4d20983",
   "metadata": {},
   "source": [
    "# Slicing: \n",
    "Just like lists in Python, NumPy arrays can be sliced. As arrays can be multidimensional, you need to specify a slice for each dimension of the array."
   ]
  },
  {
   "cell_type": "code",
   "execution_count": 4,
   "id": "1abe9319",
   "metadata": {},
   "outputs": [
    {
     "name": "stdout",
     "output_type": "stream",
     "text": [
      "Range of Elements: [[4 5 6]]\n",
      "Multidimensional Slicing: [2 5]\n"
     ]
    }
   ],
   "source": [
    "import numpy as np\n",
    "\n",
    "arr = np.array([[1, 2, 3], [4, 5, 6]])\n",
    "#elements from index 1 to 3\n",
    "print(\"Range of Elements:\",arr[1:4])\n",
    "\n",
    "#all rows, second column\n",
    "print(\"Multidimensional Slicing:\", arr[:, 1])"
   ]
  }
 ],
 "metadata": {
  "kernelspec": {
   "display_name": "first_env",
   "language": "python",
   "name": "python3"
  },
  "language_info": {
   "codemirror_mode": {
    "name": "ipython",
    "version": 3
   },
   "file_extension": ".py",
   "mimetype": "text/x-python",
   "name": "python",
   "nbconvert_exporter": "python",
   "pygments_lexer": "ipython3",
   "version": "3.10.16"
  }
 },
 "nbformat": 4,
 "nbformat_minor": 5
}
