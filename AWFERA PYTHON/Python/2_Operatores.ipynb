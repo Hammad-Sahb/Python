{
 "cells": [
  {
   "cell_type": "markdown",
   "metadata": {},
   "source": [
    "# Operators\n",
    "Python provides verious operators to perform computational and logical operations. This not will cover different types of operators with their usage and examples.\n",
    "# Assignment Operators\n",
    "Assignment operators are used to assign a value to a veriable. For example = assign a value, while += add and assign."
   ]
  },
  {
   "cell_type": "code",
   "execution_count": 1,
   "metadata": {},
   "outputs": [
    {
     "name": "stdout",
     "output_type": "stream",
     "text": [
      "x: 14\n"
     ]
    }
   ],
   "source": [
    "# assignment operator Example \n",
    "x = 5 # assign operator hepls us to assign a value to a variable\n",
    "x +=9 # this is equivalent to x = x + 9\n",
    "print(\"x:\",x)"
   ]
  },
  {
   "cell_type": "markdown",
   "metadata": {},
   "source": [
    "# Arithmetic Operators"
   ]
  },
  {
   "cell_type": "code",
   "execution_count": 3,
   "metadata": {},
   "outputs": [
    {
     "name": "stdout",
     "output_type": "stream",
     "text": [
      "Addition:  13\n",
      "Subtraction:  7\n",
      "Multiplication: 30\n",
      "Division: 3.3333333333333335\n",
      "Modulus: 1\n",
      "Floor Division: 3\n",
      "Exponentiation: 1000\n"
     ]
    }
   ],
   "source": [
    "x , y = 10 , 3\n",
    "print(\"Addition: \", x + y)\n",
    "print(\"Subtraction: \", x - y)\n",
    "print(\"Multiplication:\", x * y)\n",
    "print(\"Division:\" , x / y)\n",
    "print(\"Modulus:\", x % y)  # Remainder\n",
    "print(\"Floor Division:\", x // y)\n",
    "print(\"Exponentiation:\", x ** y)"
   ]
  },
  {
   "cell_type": "markdown",
   "metadata": {},
   "source": [
    "# Comperison Operators\n",
    "Comperison operators compare two values and return True or False."
   ]
  },
  {
   "cell_type": "code",
   "execution_count": 4,
   "metadata": {},
   "outputs": [
    {
     "name": "stdout",
     "output_type": "stream",
     "text": [
      "x == y: False\n",
      "x != y: True\n",
      "x > y: False\n",
      "x < y: True\n",
      " x >= y: False\n",
      "x <= y: True\n"
     ]
    }
   ],
   "source": [
    "x , y = 5 , 10\n",
    "print('x == y:',x == y)  # Output: False\n",
    "print('x != y:',x != y)  # Output: True\n",
    "print('x > y:',x > y)    # Output: False\n",
    "print('x < y:',x < y)    # Output: True\n",
    "print(' x >= y:', x >= y)  # Output: False\n",
    "print('x <= y:', x <= y)  # Output: True"
   ]
  },
  {
   "cell_type": "markdown",
   "metadata": {},
   "source": [
    "# Logical Operators\n",
    "Logical operators are used to combine multiple conditions in a single statement. and, or, and not are the three logical operators in Python."
   ]
  },
  {
   "cell_type": "code",
   "execution_count": 1,
   "metadata": {},
   "outputs": [
    {
     "name": "stdout",
     "output_type": "stream",
     "text": [
      "a and b: False\n",
      "a or b: True\n",
      "a not b: False\n"
     ]
    }
   ],
   "source": [
    "a , b = True , False\n",
    "print('a and b:', a and b)\n",
    "print('a or b:', a or b)\n",
    "print('a not b:', a and b) # For Reverce "
   ]
  }
 ],
 "metadata": {
  "kernelspec": {
   "display_name": "first_env",
   "language": "python",
   "name": "python3"
  },
  "language_info": {
   "codemirror_mode": {
    "name": "ipython",
    "version": 3
   },
   "file_extension": ".py",
   "mimetype": "text/x-python",
   "name": "python",
   "nbconvert_exporter": "python",
   "pygments_lexer": "ipython3",
   "version": "3.10.16"
  }
 },
 "nbformat": 4,
 "nbformat_minor": 2
}
