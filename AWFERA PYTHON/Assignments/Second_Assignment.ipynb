{
 "cells": [
  {
   "cell_type": "markdown",
   "id": "45ba802e",
   "metadata": {},
   "source": [
    "# Student name: \n",
    "## Hammad Yousaf"
   ]
  },
  {
   "cell_type": "markdown",
   "id": "2c5bf431",
   "metadata": {},
   "source": [
    "# Question 1: Variables and Data Types\n",
    "### Problem: Write a Python program that:\n",
    "1. Accepts a string, an integer, a fl oat, and a boolean from the user.\n",
    "2. Initializes variables for each type, and prints them out.\n",
    "3. Convert the string to uppercase and print it.\n",
    "4. Check if the integer is even or odd and print the result.\n",
    "5. Multiply the fl oat by 2 and print the result."
   ]
  },
  {
   "cell_type": "code",
   "execution_count": null,
   "id": "4d2051b0",
   "metadata": {},
   "outputs": [
    {
     "name": "stdout",
     "output_type": "stream",
     "text": [
      "The accepted & uppercase string is: PYTHON\n",
      "The accepted integer 25 is odd!\n",
      "The accepted float multiplied by 2 is: 6.28\n",
      "Your currently status as a student is: True\n"
     ]
    }
   ],
   "source": [
    "# 1. Accepting string from the user, initializing variable for this\n",
    "accepted_string = input(\"Enter a string: \") \n",
    "# converting the string to upper case\n",
    "uppercase_string = accepted_string.upper()\n",
    "# Print the output\n",
    "print(\"The accepted & uppercase string is:\",uppercase_string)\n",
    "# Example input = Python\n",
    "# Example output = PYTHON\n",
    "# 2. Accept an integer from user\n",
    "accepted_integer = int(input(\"Enter a integer: \"))\n",
    "# Check if the integer is even or odd and print the result.\n",
    "if accepted_integer % 2 == 0:\n",
    "    print(\"The accepted integer\",accepted_integer,\"is even!\")\n",
    "else:\n",
    "    print(\"The accepted integer\",accepted_integer,\"is odd!\")        \n",
    "# 3. Accept a float\n",
    "accepted_float = float(input(\"Enter a float: \"))\n",
    "# Multiply the float by 2 and print the result.\n",
    "Doubled_float = accepted_float * 2\n",
    "# Print it\n",
    "print(\"The accepted float multiplied by 2 is:\",Doubled_float)\n",
    "# 4. Accept a boolean\n",
    "accepted_boolean = input(\"Are you a student True/False: \")\n",
    "# Print it\n",
    "print(\"Your currently status as a student is:\",accepted_boolean)\n"
   ]
  },
  {
   "cell_type": "markdown",
   "id": "0860e5df",
   "metadata": {},
   "source": [
    "# Question 2: Operators\n",
    "### Problem: Write a Python program that:\n",
    "1. Accepts two numbers as input from the user.\n",
    "2. Performs and prints the result of all the arithmetic operations (addition, subtraction, multiplication, division, modulus, fl ow division) between these two numbers.\n",
    "3. Use comparison operators to check if the fi rst number is greater than the second, and if they are equal.\n",
    "4. Use logical operators to combine two conditions (e.g., the fi rst number is greater than the second, and the second number is less than 10)."
   ]
  },
  {
   "cell_type": "code",
   "execution_count": null,
   "id": "939ba4f9",
   "metadata": {},
   "outputs": [
    {
     "name": "stdout",
     "output_type": "stream",
     "text": [
      "Addition:  13\n",
      "Subtraction:  7\n",
      "Multiplication:  30\n",
      "Division:  3.3333333333333335\n",
      "Modulus:  1\n",
      "flow division:  3\n",
      "10 is greater than 3\n",
      "The first 10 number is greater than the second 3 number and the second number is less than 10\n",
      "The first 10 number is not equal to the second 3 number\n"
     ]
    }
   ],
   "source": [
    "# Accept two numbers as input from the user\n",
    "num1 = int(input(\"Enter the first number: \"))\n",
    "num2 = int(input(\"Enter the second number: \"))\n",
    "# Perform and print the result al all arithmetic operations\n",
    "print(\"Addition: \", num1 + num2) # Addition mean add two numbers together\n",
    "print(\"Subtraction: \", num1 - num2) # Subtraction mean subtract one number from another\n",
    "print('Multiplication: ', num1 * num2) # Multiplication mean multiply two numbers together\n",
    "print('Division: ', num1 / num2) # Division mean divide one number by another\n",
    "print('Modulus: ', num1 % num2) # Modulus mean find the remainder of a division operation\n",
    "print('flow division: ', num1 // num2) # Floor division mean divide one number by another and return the largest whole number\n",
    "# Use comparison operators to check if the first number is greater than, less than, or equal to the second number\n",
    "if num1 > num2:\n",
    "    print(num1, \"is greater than\", num2)\n",
    "elif num1 < num2:\n",
    "    print(num1, \"is less than\", num2)\n",
    "else:\n",
    "    print(num1, \"is equal to\", num2)\n",
    "# Use logical operators to combine two conditions (e.g., check the first number is greater than second number and second less than 10)\n",
    "if num1 > num2 and num2 < 10:\n",
    "    print(\"The first\" ,num1, \"number is greater than the second\" ,num2, \"number and the second number is less than 10\")\n",
    "elif num1 < num2 or num2 > 10:\n",
    "    print(\"The first\" ,num1, \"number is less than the\" ,num2, \"second number or the second number is greater than 10\")\n",
    "if not num1 == num2:\n",
    "    print(\"The first\" ,num1, \"number is not equal to the second\" ,num2, \"number\")"
   ]
  },
  {
   "cell_type": "markdown",
   "id": "93927ffb",
   "metadata": {},
   "source": [
    "# Question 3: Loops\n",
    "### Problem: Write a Python program that:\n",
    "1. Accepts a list of integers from the user.\n",
    "2. Loops through the list and prints out each number.\n",
    "3. If a number is greater than 10, skip it using the continue statement.\n",
    "4. Stop the loop if the number is 20 using the break statement.\n",
    "5. After the loop ends, print a message that the loop ended naturally."
   ]
  },
  {
   "cell_type": "code",
   "execution_count": null,
   "id": "3bbfaf67",
   "metadata": {},
   "outputs": [
    {
     "name": "stdout",
     "output_type": "stream",
     "text": [
      "5\n",
      "10\n",
      "Skipping number greater than 10: 12\n",
      "Skipping number greater than 10: 15\n",
      "Skipping number greater than 10: 20\n",
      "Skipping number greater than 10: 18\n",
      "The loop ended naturally\n"
     ]
    }
   ],
   "source": [
    "# Accept a list of integers from the user\n",
    "numbers = input(\"Enter a list of integers saparated by spaces: \")\n",
    "num_list = list(map(int, numbers.split())) # Convert the input string to a list of integers\n",
    "for number in num_list:# Iterate over the list of numbers\n",
    "    if number > 10:\n",
    "        print(\"Skipping number greater than 10:\", number)\n",
    "        continue # Skip numbers greater than 10\n",
    "    if number == 20:\n",
    "        print(\"Breaking the loop at 20:\", number)\n",
    "        break\n",
    "    print(number) # Print each number in the list\n",
    "else:\n",
    "    print(\"The loop ended naturally\")"
   ]
  }
 ],
 "metadata": {
  "kernelspec": {
   "display_name": "awfera",
   "language": "python",
   "name": "python3"
  },
  "language_info": {
   "codemirror_mode": {
    "name": "ipython",
    "version": 3
   },
   "file_extension": ".py",
   "mimetype": "text/x-python",
   "name": "python",
   "nbconvert_exporter": "python",
   "pygments_lexer": "ipython3",
   "version": "3.10.16"
  }
 },
 "nbformat": 4,
 "nbformat_minor": 5
}
